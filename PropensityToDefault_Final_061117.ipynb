{
 "cells": [
  {
   "cell_type": "code",
   "execution_count": 1,
   "metadata": {},
   "outputs": [
    {
     "name": "stderr",
     "output_type": "stream",
     "text": [
      "Using TensorFlow backend.\n"
     ]
    }
   ],
   "source": [
    "# import the required libraries\n",
    "\n",
    "import os\n",
    "import pandas as pd \n",
    "import numpy as np \n",
    "import matplotlib.pylab as plt\n",
    "import warnings\n",
    "warnings.filterwarnings('ignore')\n",
    "%matplotlib inline\n",
    "from sklearn.preprocessing import normalize\n",
    "from sklearn import metrics\n",
    "from sklearn.metrics import roc_curve, auc, recall_score, precision_score, accuracy_score, f1_score\n",
    "\n",
    "os.environ[\"KERAS_BACKEND\"] = \"tensorflow\"\n",
    "import tensorflow\n",
    "import keras\n",
    "\n",
    "from IPython.core.interactiveshell import InteractiveShell\n",
    "InteractiveShell.ast_node_interactivity = \"all\""
   ]
  },
  {
   "cell_type": "code",
   "execution_count": 2,
   "metadata": {
    "collapsed": true
   },
   "outputs": [],
   "source": [
    "# set working directory\n",
    "\n",
    "os.chdir('C:/Users/Pavan/Desktop/Propensity to Default')"
   ]
  },
  {
   "cell_type": "code",
   "execution_count": 3,
   "metadata": {
    "collapsed": true
   },
   "outputs": [],
   "source": [
    "# import the dataset\n",
    "\n",
    "df = pd.read_csv('LoanStats.csv', low_memory=False)"
   ]
  },
  {
   "cell_type": "code",
   "execution_count": 4,
   "metadata": {},
   "outputs": [
    {
     "data": {
      "text/plain": [
       "pandas.core.frame.DataFrame"
      ]
     },
     "execution_count": 4,
     "metadata": {},
     "output_type": "execute_result"
    },
    {
     "data": {
      "text/plain": [
       "5450682"
      ]
     },
     "execution_count": 4,
     "metadata": {},
     "output_type": "execute_result"
    },
    {
     "data": {
      "text/plain": [
       "(39786, 137)"
      ]
     },
     "execution_count": 4,
     "metadata": {},
     "output_type": "execute_result"
    },
    {
     "data": {
      "text/html": [
       "<div>\n",
       "<style>\n",
       "    .dataframe thead tr:only-child th {\n",
       "        text-align: right;\n",
       "    }\n",
       "\n",
       "    .dataframe thead th {\n",
       "        text-align: left;\n",
       "    }\n",
       "\n",
       "    .dataframe tbody tr th {\n",
       "        vertical-align: top;\n",
       "    }\n",
       "</style>\n",
       "<table border=\"1\" class=\"dataframe\">\n",
       "  <thead>\n",
       "    <tr style=\"text-align: right;\">\n",
       "      <th></th>\n",
       "      <th>id</th>\n",
       "      <th>member_id</th>\n",
       "      <th>loan_amnt</th>\n",
       "      <th>funded_amnt</th>\n",
       "      <th>funded_amnt_inv</th>\n",
       "      <th>term</th>\n",
       "      <th>int_rate</th>\n",
       "      <th>installment</th>\n",
       "      <th>grade</th>\n",
       "      <th>sub_grade</th>\n",
       "      <th>...</th>\n",
       "      <th>hardship_start_date</th>\n",
       "      <th>hardship_end_date</th>\n",
       "      <th>payment_plan_start_date</th>\n",
       "      <th>hardship_length</th>\n",
       "      <th>hardship_dpd</th>\n",
       "      <th>hardship_loan_status</th>\n",
       "      <th>orig_projected_additional_accrued_interest</th>\n",
       "      <th>hardship_payoff_balance_amount</th>\n",
       "      <th>hardship_last_payment_amount</th>\n",
       "      <th>loan_status</th>\n",
       "    </tr>\n",
       "  </thead>\n",
       "  <tbody>\n",
       "    <tr>\n",
       "      <th>0</th>\n",
       "      <td>NaN</td>\n",
       "      <td>NaN</td>\n",
       "      <td>5000</td>\n",
       "      <td>5000</td>\n",
       "      <td>4975.0</td>\n",
       "      <td>36 months</td>\n",
       "      <td>10.65%</td>\n",
       "      <td>162.87</td>\n",
       "      <td>B</td>\n",
       "      <td>B2</td>\n",
       "      <td>...</td>\n",
       "      <td>NaN</td>\n",
       "      <td>NaN</td>\n",
       "      <td>NaN</td>\n",
       "      <td>NaN</td>\n",
       "      <td>NaN</td>\n",
       "      <td>NaN</td>\n",
       "      <td>NaN</td>\n",
       "      <td>NaN</td>\n",
       "      <td>NaN</td>\n",
       "      <td>Fully Paid</td>\n",
       "    </tr>\n",
       "    <tr>\n",
       "      <th>1</th>\n",
       "      <td>NaN</td>\n",
       "      <td>NaN</td>\n",
       "      <td>2500</td>\n",
       "      <td>2500</td>\n",
       "      <td>2500.0</td>\n",
       "      <td>60 months</td>\n",
       "      <td>15.27%</td>\n",
       "      <td>59.83</td>\n",
       "      <td>C</td>\n",
       "      <td>C4</td>\n",
       "      <td>...</td>\n",
       "      <td>NaN</td>\n",
       "      <td>NaN</td>\n",
       "      <td>NaN</td>\n",
       "      <td>NaN</td>\n",
       "      <td>NaN</td>\n",
       "      <td>NaN</td>\n",
       "      <td>NaN</td>\n",
       "      <td>NaN</td>\n",
       "      <td>NaN</td>\n",
       "      <td>Charged Off</td>\n",
       "    </tr>\n",
       "    <tr>\n",
       "      <th>2</th>\n",
       "      <td>NaN</td>\n",
       "      <td>NaN</td>\n",
       "      <td>2400</td>\n",
       "      <td>2400</td>\n",
       "      <td>2400.0</td>\n",
       "      <td>36 months</td>\n",
       "      <td>15.96%</td>\n",
       "      <td>84.33</td>\n",
       "      <td>C</td>\n",
       "      <td>C5</td>\n",
       "      <td>...</td>\n",
       "      <td>NaN</td>\n",
       "      <td>NaN</td>\n",
       "      <td>NaN</td>\n",
       "      <td>NaN</td>\n",
       "      <td>NaN</td>\n",
       "      <td>NaN</td>\n",
       "      <td>NaN</td>\n",
       "      <td>NaN</td>\n",
       "      <td>NaN</td>\n",
       "      <td>Fully Paid</td>\n",
       "    </tr>\n",
       "    <tr>\n",
       "      <th>3</th>\n",
       "      <td>NaN</td>\n",
       "      <td>NaN</td>\n",
       "      <td>10000</td>\n",
       "      <td>10000</td>\n",
       "      <td>10000.0</td>\n",
       "      <td>36 months</td>\n",
       "      <td>13.49%</td>\n",
       "      <td>339.31</td>\n",
       "      <td>C</td>\n",
       "      <td>C1</td>\n",
       "      <td>...</td>\n",
       "      <td>NaN</td>\n",
       "      <td>NaN</td>\n",
       "      <td>NaN</td>\n",
       "      <td>NaN</td>\n",
       "      <td>NaN</td>\n",
       "      <td>NaN</td>\n",
       "      <td>NaN</td>\n",
       "      <td>NaN</td>\n",
       "      <td>NaN</td>\n",
       "      <td>Fully Paid</td>\n",
       "    </tr>\n",
       "    <tr>\n",
       "      <th>4</th>\n",
       "      <td>NaN</td>\n",
       "      <td>NaN</td>\n",
       "      <td>3000</td>\n",
       "      <td>3000</td>\n",
       "      <td>3000.0</td>\n",
       "      <td>60 months</td>\n",
       "      <td>12.69%</td>\n",
       "      <td>67.79</td>\n",
       "      <td>B</td>\n",
       "      <td>B5</td>\n",
       "      <td>...</td>\n",
       "      <td>NaN</td>\n",
       "      <td>NaN</td>\n",
       "      <td>NaN</td>\n",
       "      <td>NaN</td>\n",
       "      <td>NaN</td>\n",
       "      <td>NaN</td>\n",
       "      <td>NaN</td>\n",
       "      <td>NaN</td>\n",
       "      <td>NaN</td>\n",
       "      <td>Fully Paid</td>\n",
       "    </tr>\n",
       "  </tbody>\n",
       "</table>\n",
       "<p>5 rows × 137 columns</p>\n",
       "</div>"
      ],
      "text/plain": [
       "   id  member_id  loan_amnt  funded_amnt  funded_amnt_inv        term  \\\n",
       "0 NaN        NaN       5000         5000           4975.0   36 months   \n",
       "1 NaN        NaN       2500         2500           2500.0   60 months   \n",
       "2 NaN        NaN       2400         2400           2400.0   36 months   \n",
       "3 NaN        NaN      10000        10000          10000.0   36 months   \n",
       "4 NaN        NaN       3000         3000           3000.0   60 months   \n",
       "\n",
       "  int_rate  installment grade sub_grade     ...      hardship_start_date  \\\n",
       "0   10.65%       162.87     B        B2     ...                      NaN   \n",
       "1   15.27%        59.83     C        C4     ...                      NaN   \n",
       "2   15.96%        84.33     C        C5     ...                      NaN   \n",
       "3   13.49%       339.31     C        C1     ...                      NaN   \n",
       "4   12.69%        67.79     B        B5     ...                      NaN   \n",
       "\n",
       "  hardship_end_date payment_plan_start_date  hardship_length hardship_dpd  \\\n",
       "0               NaN                     NaN              NaN          NaN   \n",
       "1               NaN                     NaN              NaN          NaN   \n",
       "2               NaN                     NaN              NaN          NaN   \n",
       "3               NaN                     NaN              NaN          NaN   \n",
       "4               NaN                     NaN              NaN          NaN   \n",
       "\n",
       "  hardship_loan_status orig_projected_additional_accrued_interest  \\\n",
       "0                  NaN                                        NaN   \n",
       "1                  NaN                                        NaN   \n",
       "2                  NaN                                        NaN   \n",
       "3                  NaN                                        NaN   \n",
       "4                  NaN                                        NaN   \n",
       "\n",
       "   hardship_payoff_balance_amount hardship_last_payment_amount  loan_status  \n",
       "0                             NaN                          NaN   Fully Paid  \n",
       "1                             NaN                          NaN  Charged Off  \n",
       "2                             NaN                          NaN   Fully Paid  \n",
       "3                             NaN                          NaN   Fully Paid  \n",
       "4                             NaN                          NaN   Fully Paid  \n",
       "\n",
       "[5 rows x 137 columns]"
      ]
     },
     "execution_count": 4,
     "metadata": {},
     "output_type": "execute_result"
    },
    {
     "data": {
      "text/html": [
       "<div>\n",
       "<style>\n",
       "    .dataframe thead tr:only-child th {\n",
       "        text-align: right;\n",
       "    }\n",
       "\n",
       "    .dataframe thead th {\n",
       "        text-align: left;\n",
       "    }\n",
       "\n",
       "    .dataframe tbody tr th {\n",
       "        vertical-align: top;\n",
       "    }\n",
       "</style>\n",
       "<table border=\"1\" class=\"dataframe\">\n",
       "  <thead>\n",
       "    <tr style=\"text-align: right;\">\n",
       "      <th></th>\n",
       "      <th>id</th>\n",
       "      <th>member_id</th>\n",
       "      <th>loan_amnt</th>\n",
       "      <th>funded_amnt</th>\n",
       "      <th>funded_amnt_inv</th>\n",
       "      <th>term</th>\n",
       "      <th>int_rate</th>\n",
       "      <th>installment</th>\n",
       "      <th>grade</th>\n",
       "      <th>sub_grade</th>\n",
       "      <th>...</th>\n",
       "      <th>hardship_start_date</th>\n",
       "      <th>hardship_end_date</th>\n",
       "      <th>payment_plan_start_date</th>\n",
       "      <th>hardship_length</th>\n",
       "      <th>hardship_dpd</th>\n",
       "      <th>hardship_loan_status</th>\n",
       "      <th>orig_projected_additional_accrued_interest</th>\n",
       "      <th>hardship_payoff_balance_amount</th>\n",
       "      <th>hardship_last_payment_amount</th>\n",
       "      <th>loan_status</th>\n",
       "    </tr>\n",
       "  </thead>\n",
       "  <tbody>\n",
       "    <tr>\n",
       "      <th>39781</th>\n",
       "      <td>NaN</td>\n",
       "      <td>NaN</td>\n",
       "      <td>2500</td>\n",
       "      <td>2500</td>\n",
       "      <td>1075.0</td>\n",
       "      <td>36 months</td>\n",
       "      <td>8.07%</td>\n",
       "      <td>78.42</td>\n",
       "      <td>A</td>\n",
       "      <td>A4</td>\n",
       "      <td>...</td>\n",
       "      <td>NaN</td>\n",
       "      <td>NaN</td>\n",
       "      <td>NaN</td>\n",
       "      <td>NaN</td>\n",
       "      <td>NaN</td>\n",
       "      <td>NaN</td>\n",
       "      <td>NaN</td>\n",
       "      <td>NaN</td>\n",
       "      <td>NaN</td>\n",
       "      <td>Fully Paid</td>\n",
       "    </tr>\n",
       "    <tr>\n",
       "      <th>39782</th>\n",
       "      <td>NaN</td>\n",
       "      <td>NaN</td>\n",
       "      <td>8500</td>\n",
       "      <td>8500</td>\n",
       "      <td>875.0</td>\n",
       "      <td>36 months</td>\n",
       "      <td>10.28%</td>\n",
       "      <td>275.38</td>\n",
       "      <td>C</td>\n",
       "      <td>C1</td>\n",
       "      <td>...</td>\n",
       "      <td>NaN</td>\n",
       "      <td>NaN</td>\n",
       "      <td>NaN</td>\n",
       "      <td>NaN</td>\n",
       "      <td>NaN</td>\n",
       "      <td>NaN</td>\n",
       "      <td>NaN</td>\n",
       "      <td>NaN</td>\n",
       "      <td>NaN</td>\n",
       "      <td>Fully Paid</td>\n",
       "    </tr>\n",
       "    <tr>\n",
       "      <th>39783</th>\n",
       "      <td>NaN</td>\n",
       "      <td>NaN</td>\n",
       "      <td>5000</td>\n",
       "      <td>5000</td>\n",
       "      <td>1325.0</td>\n",
       "      <td>36 months</td>\n",
       "      <td>8.07%</td>\n",
       "      <td>156.84</td>\n",
       "      <td>A</td>\n",
       "      <td>A4</td>\n",
       "      <td>...</td>\n",
       "      <td>NaN</td>\n",
       "      <td>NaN</td>\n",
       "      <td>NaN</td>\n",
       "      <td>NaN</td>\n",
       "      <td>NaN</td>\n",
       "      <td>NaN</td>\n",
       "      <td>NaN</td>\n",
       "      <td>NaN</td>\n",
       "      <td>NaN</td>\n",
       "      <td>Fully Paid</td>\n",
       "    </tr>\n",
       "    <tr>\n",
       "      <th>39784</th>\n",
       "      <td>NaN</td>\n",
       "      <td>NaN</td>\n",
       "      <td>5000</td>\n",
       "      <td>5000</td>\n",
       "      <td>650.0</td>\n",
       "      <td>36 months</td>\n",
       "      <td>7.43%</td>\n",
       "      <td>155.38</td>\n",
       "      <td>A</td>\n",
       "      <td>A2</td>\n",
       "      <td>...</td>\n",
       "      <td>NaN</td>\n",
       "      <td>NaN</td>\n",
       "      <td>NaN</td>\n",
       "      <td>NaN</td>\n",
       "      <td>NaN</td>\n",
       "      <td>NaN</td>\n",
       "      <td>NaN</td>\n",
       "      <td>NaN</td>\n",
       "      <td>NaN</td>\n",
       "      <td>Fully Paid</td>\n",
       "    </tr>\n",
       "    <tr>\n",
       "      <th>39785</th>\n",
       "      <td>NaN</td>\n",
       "      <td>NaN</td>\n",
       "      <td>7500</td>\n",
       "      <td>7500</td>\n",
       "      <td>800.0</td>\n",
       "      <td>36 months</td>\n",
       "      <td>13.75%</td>\n",
       "      <td>255.43</td>\n",
       "      <td>E</td>\n",
       "      <td>E2</td>\n",
       "      <td>...</td>\n",
       "      <td>NaN</td>\n",
       "      <td>NaN</td>\n",
       "      <td>NaN</td>\n",
       "      <td>NaN</td>\n",
       "      <td>NaN</td>\n",
       "      <td>NaN</td>\n",
       "      <td>NaN</td>\n",
       "      <td>NaN</td>\n",
       "      <td>NaN</td>\n",
       "      <td>Fully Paid</td>\n",
       "    </tr>\n",
       "  </tbody>\n",
       "</table>\n",
       "<p>5 rows × 137 columns</p>\n",
       "</div>"
      ],
      "text/plain": [
       "       id  member_id  loan_amnt  funded_amnt  funded_amnt_inv        term  \\\n",
       "39781 NaN        NaN       2500         2500           1075.0   36 months   \n",
       "39782 NaN        NaN       8500         8500            875.0   36 months   \n",
       "39783 NaN        NaN       5000         5000           1325.0   36 months   \n",
       "39784 NaN        NaN       5000         5000            650.0   36 months   \n",
       "39785 NaN        NaN       7500         7500            800.0   36 months   \n",
       "\n",
       "      int_rate  installment grade sub_grade     ...     hardship_start_date  \\\n",
       "39781    8.07%        78.42     A        A4     ...                     NaN   \n",
       "39782   10.28%       275.38     C        C1     ...                     NaN   \n",
       "39783    8.07%       156.84     A        A4     ...                     NaN   \n",
       "39784    7.43%       155.38     A        A2     ...                     NaN   \n",
       "39785   13.75%       255.43     E        E2     ...                     NaN   \n",
       "\n",
       "      hardship_end_date payment_plan_start_date  hardship_length hardship_dpd  \\\n",
       "39781               NaN                     NaN              NaN          NaN   \n",
       "39782               NaN                     NaN              NaN          NaN   \n",
       "39783               NaN                     NaN              NaN          NaN   \n",
       "39784               NaN                     NaN              NaN          NaN   \n",
       "39785               NaN                     NaN              NaN          NaN   \n",
       "\n",
       "      hardship_loan_status orig_projected_additional_accrued_interest  \\\n",
       "39781                  NaN                                        NaN   \n",
       "39782                  NaN                                        NaN   \n",
       "39783                  NaN                                        NaN   \n",
       "39784                  NaN                                        NaN   \n",
       "39785                  NaN                                        NaN   \n",
       "\n",
       "       hardship_payoff_balance_amount hardship_last_payment_amount loan_status  \n",
       "39781                             NaN                          NaN  Fully Paid  \n",
       "39782                             NaN                          NaN  Fully Paid  \n",
       "39783                             NaN                          NaN  Fully Paid  \n",
       "39784                             NaN                          NaN  Fully Paid  \n",
       "39785                             NaN                          NaN  Fully Paid  \n",
       "\n",
       "[5 rows x 137 columns]"
      ]
     },
     "execution_count": 4,
     "metadata": {},
     "output_type": "execute_result"
    }
   ],
   "source": [
    "# Analyse data\n",
    "\n",
    "type(df)\n",
    "df.size\n",
    "df.shape\n",
    "df.head()\n",
    "df.tail()"
   ]
  },
  {
   "cell_type": "code",
   "execution_count": 5,
   "metadata": {},
   "outputs": [
    {
     "data": {
      "text/plain": [
       "all_util                                      1.000000\n",
       "mo_sin_rcnt_rev_tl_op                         1.000000\n",
       "total_cu_tl                                   1.000000\n",
       "inq_last_12m                                  1.000000\n",
       "acc_open_past_24mths                          1.000000\n",
       "avg_cur_bal                                   1.000000\n",
       "bc_open_to_buy                                1.000000\n",
       "bc_util                                       1.000000\n",
       "mo_sin_old_il_acct                            1.000000\n",
       "mo_sin_old_rev_tl_op                          1.000000\n",
       "mo_sin_rcnt_tl                                1.000000\n",
       "total_rev_hi_lim                              1.000000\n",
       "mort_acc                                      1.000000\n",
       "mths_since_recent_bc                          1.000000\n",
       "mths_since_recent_bc_dlq                      1.000000\n",
       "mths_since_recent_inq                         1.000000\n",
       "mths_since_recent_revol_delinq                1.000000\n",
       "num_accts_ever_120_pd                         1.000000\n",
       "num_actv_bc_tl                                1.000000\n",
       "num_actv_rev_tl                               1.000000\n",
       "inq_fi                                        1.000000\n",
       "hardship_last_payment_amount                  1.000000\n",
       "num_bc_tl                                     1.000000\n",
       "tot_cur_bal                                   1.000000\n",
       "member_id                                     1.000000\n",
       "url                                           1.000000\n",
       "next_pymnt_d                                  1.000000\n",
       "mths_since_last_major_derog                   1.000000\n",
       "annual_inc_joint                              1.000000\n",
       "dti_joint                                     1.000000\n",
       "                                                ...   \n",
       "deferral_term                                 1.000000\n",
       "hardship_amount                               1.000000\n",
       "hardship_start_date                           1.000000\n",
       "hardship_end_date                             1.000000\n",
       "payment_plan_start_date                       1.000000\n",
       "hardship_length                               1.000000\n",
       "hardship_dpd                                  1.000000\n",
       "num_op_rev_tl                                 1.000000\n",
       "orig_projected_additional_accrued_interest    1.000000\n",
       "hardship_payoff_balance_amount                1.000000\n",
       "sec_app_open_acc                              1.000000\n",
       "hardship_loan_status                          1.000000\n",
       "sec_app_inq_last_6mths                        1.000000\n",
       "percent_bc_gt_75                              1.000000\n",
       "num_rev_tl_bal_gt_0                           1.000000\n",
       "sec_app_earliest_cr_line                      1.000000\n",
       "num_tl_120dpd_2m                              1.000000\n",
       "num_tl_30dpd                                  1.000000\n",
       "num_tl_90g_dpd_24m                            1.000000\n",
       "num_tl_op_past_12m                            1.000000\n",
       "pct_tl_nvr_dlq                                1.000000\n",
       "num_sats                                      1.000000\n",
       "tot_hi_cred_lim                               1.000000\n",
       "total_il_high_credit_limit                    1.000000\n",
       "num_rev_accts                                 1.000000\n",
       "total_bal_ex_mort                             1.000000\n",
       "total_bc_limit                                1.000000\n",
       "revol_bal_joint                               1.000000\n",
       "mths_since_last_record                        0.929850\n",
       "mths_since_last_delinq                        0.646634\n",
       "Length: 85, dtype: float64"
      ]
     },
     "execution_count": 5,
     "metadata": {},
     "output_type": "execute_result"
    },
    {
     "data": {
      "text/plain": [
       "85"
      ]
     },
     "execution_count": 5,
     "metadata": {},
     "output_type": "execute_result"
    }
   ],
   "source": [
    "# list columns with more than 60% null values\n",
    "\n",
    "check_null = df.isnull().sum().sort_values(ascending=False)/float(len(df))\n",
    "check_null[check_null>0.6]\n",
    "len(check_null[check_null>0.6])"
   ]
  },
  {
   "cell_type": "code",
   "execution_count": 6,
   "metadata": {
    "collapsed": true
   },
   "outputs": [],
   "source": [
    "# remove all columns with more than 60% null values\n",
    "# remove rows with all null values\n",
    "\n",
    "df.drop(check_null[check_null>0.6].index, axis=1, inplace=True) \n",
    "df.dropna(axis=0, thresh=30, inplace=True)"
   ]
  },
  {
   "cell_type": "code",
   "execution_count": 7,
   "metadata": {},
   "outputs": [
    {
     "data": {
      "text/plain": [
       "loan_amnt                       885\n",
       "funded_amnt                    1042\n",
       "funded_amnt_inv                8215\n",
       "term                              2\n",
       "int_rate                        371\n",
       "installment                   15405\n",
       "grade                             7\n",
       "sub_grade                        35\n",
       "emp_title                     28864\n",
       "emp_length                       12\n",
       "home_ownership                    5\n",
       "annual_inc                     5323\n",
       "verification_status               3\n",
       "issue_d                          55\n",
       "pymnt_plan                        1\n",
       "desc                          26571\n",
       "purpose                          14\n",
       "title                         19635\n",
       "zip_code                        823\n",
       "addr_state                       50\n",
       "dti                            2868\n",
       "delinq_2yrs                      11\n",
       "earliest_cr_line                526\n",
       "inq_last_6mths                    9\n",
       "open_acc                         40\n",
       "pub_rec                           5\n",
       "revol_bal                     21738\n",
       "revol_util                     1090\n",
       "total_acc                        82\n",
       "initial_list_status               1\n",
       "out_prncp                         1\n",
       "out_prncp_inv                     1\n",
       "total_pymnt                   37809\n",
       "total_pymnt_inv               37550\n",
       "total_rec_prncp                6909\n",
       "total_rec_int                 35047\n",
       "total_rec_late_fee             1363\n",
       "recoveries                     4568\n",
       "collection_recovery_fee        2676\n",
       "last_pymnt_d                    112\n",
       "last_pymnt_amnt               35240\n",
       "last_credit_pull_d              122\n",
       "collections_12_mths_ex_med        2\n",
       "policy_code                       1\n",
       "application_type                  1\n",
       "acc_now_delinq                    1\n",
       "chargeoff_within_12_mths          2\n",
       "delinq_amnt                       1\n",
       "pub_rec_bankruptcies              4\n",
       "tax_liens                         2\n",
       "hardship_flag                     1\n",
       "loan_status                       2\n",
       "dtype: int64"
      ]
     },
     "execution_count": 7,
     "metadata": {},
     "output_type": "execute_result"
    }
   ],
   "source": [
    "#list number of unique values in each column (including NaN)\n",
    "\n",
    "uniques_df = df.apply(lambda x: x.nunique(dropna=False))\n",
    "uniques_df"
   ]
  },
  {
   "cell_type": "code",
   "execution_count": 8,
   "metadata": {
    "collapsed": true
   },
   "outputs": [],
   "source": [
    "# delete the columns that have only one value\n",
    "# delete 'desc' as the description is not required\n",
    "\n",
    "del_df = ['pymnt_plan','initial_list_status','out_prncp','out_prncp_inv','policy_code','application_type','acc_now_delinq','delinq_amnt','hardship_flag','desc']\n",
    "df.drop(del_df, axis=1, inplace=True) "
   ]
  },
  {
   "cell_type": "code",
   "execution_count": 9,
   "metadata": {
    "collapsed": true
   },
   "outputs": [],
   "source": [
    "# import libraries required for modelling and visualisation\n",
    "\n",
    "import seaborn as sns\n",
    "from sklearn.linear_model import LogisticRegression\n",
    "from sklearn.ensemble import RandomForestClassifier\n",
    "from sklearn.svm import SVC, LinearSVC\n",
    "from sklearn.neighbors import KNeighborsClassifier\n",
    "from sklearn.naive_bayes import GaussianNB\n",
    "from sklearn.linear_model import SGDClassifier\n",
    "from sklearn.tree import DecisionTreeClassifier\n",
    "from sklearn.metrics import confusion_matrix\n",
    "from sklearn import tree"
   ]
  },
  {
   "cell_type": "code",
   "execution_count": 10,
   "metadata": {},
   "outputs": [
    {
     "data": {
      "text/plain": [
       "<matplotlib.axes._subplots.AxesSubplot at 0x213bc5d4630>"
      ]
     },
     "execution_count": 10,
     "metadata": {},
     "output_type": "execute_result"
    },
    {
     "data": {
      "image/png": "[encoded data removed]",
      "text/plain": [
       "<matplotlib.figure.Figure at 0x213bcf68c50>"
      ]
     },
     "metadata": {},
     "output_type": "display_data"
    }
   ],
   "source": [
    "sns.heatmap(df.isnull(),yticklabels=False,cbar=False,cmap='viridis')"
   ]
  },
  {
   "cell_type": "code",
   "execution_count": 11,
   "metadata": {
    "collapsed": true
   },
   "outputs": [],
   "source": [
    "df.drop(['emp_title', 'title', 'last_credit_pull_d', 'chargeoff_within_12_mths', 'tax_liens'], axis=1, inplace=True) "
   ]
  },
  {
   "cell_type": "code",
   "execution_count": 12,
   "metadata": {},
   "outputs": [
    {
     "data": {
      "text/plain": [
       "loan_amnt                       0\n",
       "funded_amnt                     0\n",
       "funded_amnt_inv                 0\n",
       "term                            0\n",
       "int_rate                        0\n",
       "installment                     0\n",
       "grade                           0\n",
       "sub_grade                       0\n",
       "emp_length                      0\n",
       "home_ownership                  0\n",
       "annual_inc                      0\n",
       "verification_status             0\n",
       "issue_d                         0\n",
       "purpose                         0\n",
       "zip_code                        0\n",
       "addr_state                      0\n",
       "dti                             0\n",
       "delinq_2yrs                     0\n",
       "earliest_cr_line                0\n",
       "inq_last_6mths                  0\n",
       "open_acc                        0\n",
       "pub_rec                         0\n",
       "revol_bal                       0\n",
       "revol_util                     50\n",
       "total_acc                       0\n",
       "total_pymnt                     0\n",
       "total_pymnt_inv                 0\n",
       "total_rec_prncp                 0\n",
       "total_rec_int                   0\n",
       "total_rec_late_fee              0\n",
       "recoveries                      0\n",
       "collection_recovery_fee         0\n",
       "last_pymnt_d                   71\n",
       "last_pymnt_amnt                 0\n",
       "collections_12_mths_ex_med     56\n",
       "pub_rec_bankruptcies          697\n",
       "loan_status                     0\n",
       "dtype: int64"
      ]
     },
     "execution_count": 12,
     "metadata": {},
     "output_type": "execute_result"
    }
   ],
   "source": [
    "# check for variables with missing values\n",
    "\n",
    "df.isnull().sum()"
   ]
  },
  {
   "cell_type": "code",
   "execution_count": 13,
   "metadata": {},
   "outputs": [
    {
     "data": {
      "text/plain": [
       "(38970, 37)"
      ]
     },
     "execution_count": 13,
     "metadata": {},
     "output_type": "execute_result"
    }
   ],
   "source": [
    "df.dropna(axis=0, how='any', inplace=True)\n",
    "df.shape"
   ]
  },
  {
   "cell_type": "code",
   "execution_count": 14,
   "metadata": {
    "collapsed": true
   },
   "outputs": [],
   "source": [
    "# remove the word 'months' from 'term' and convert to float\n",
    "\n",
    "df['term'] = df['term'].str.split(' ').str[1]\n",
    "df['term'] = df.term.astype(float)"
   ]
  },
  {
   "cell_type": "code",
   "execution_count": 15,
   "metadata": {
    "collapsed": true
   },
   "outputs": [],
   "source": [
    "#interest rate is a string. Remove % and convert to float\n",
    "\n",
    "df['int_rate'] = df['int_rate'].str.split('%').str[0]\n",
    "df['int_rate'] = df.int_rate.astype(float)/100"
   ]
  },
  {
   "cell_type": "code",
   "execution_count": 16,
   "metadata": {
    "collapsed": true
   },
   "outputs": [],
   "source": [
    "# extract numbers from emp_length and fill missing values with the median\n",
    "\n",
    "df['emp_length'] = df['emp_length'].str.extract('(\\d+)').astype(float)"
   ]
  },
  {
   "cell_type": "code",
   "execution_count": 17,
   "metadata": {},
   "outputs": [
    {
     "data": {
      "text/plain": [
       "loan_status\n",
       "Charged Off     5468\n",
       "Fully Paid     33502\n",
       "dtype: int64"
      ]
     },
     "execution_count": 17,
     "metadata": {},
     "output_type": "execute_result"
    }
   ],
   "source": [
    "df.groupby('loan_status').size()"
   ]
  },
  {
   "cell_type": "code",
   "execution_count": 18,
   "metadata": {
    "collapsed": true
   },
   "outputs": [],
   "source": [
    "df['loan_status'] = df['loan_status'].map( {'Fully Paid': 0,'Charged Off': 1}).astype(int)"
   ]
  },
  {
   "cell_type": "code",
   "execution_count": 19,
   "metadata": {},
   "outputs": [],
   "source": [
    "df.drop(['sub_grade','issue_d','zip_code','addr_state','earliest_cr_line','last_pymnt_d'],axis=1,inplace=True)"
   ]
  },
  {
   "cell_type": "code",
   "execution_count": 20,
   "metadata": {},
   "outputs": [
    {
     "data": {
      "text/plain": [
       "verification_status\n",
       "Not Verified       16164\n",
       "Source Verified     9992\n",
       "Verified           12814\n",
       "dtype: int64"
      ]
     },
     "execution_count": 20,
     "metadata": {},
     "output_type": "execute_result"
    }
   ],
   "source": [
    "df.groupby('verification_status').size()"
   ]
  },
  {
   "cell_type": "code",
   "execution_count": 21,
   "metadata": {
    "collapsed": true
   },
   "outputs": [],
   "source": [
    "df['verification_status'] = df['verification_status'].map({'Not Verified': 'NotVerified','Source Verified': 'SourceVerified','Verified': 'Verified'})"
   ]
  },
  {
   "cell_type": "code",
   "execution_count": 22,
   "metadata": {
    "collapsed": true
   },
   "outputs": [],
   "source": [
    "df['revol_util'] = df['revol_util'].str.split('%').str[0]\n",
    "df['revol_util'] = df.revol_util.astype(float)/100"
   ]
  },
  {
   "cell_type": "code",
   "execution_count": 23,
   "metadata": {},
   "outputs": [
    {
     "name": "stdout",
     "output_type": "stream",
     "text": [
      "<class 'pandas.core.frame.DataFrame'>\n",
      "Int64Index: 38970 entries, 0 to 39692\n",
      "Data columns (total 31 columns):\n",
      "loan_amnt                     38970 non-null int64\n",
      "funded_amnt                   38970 non-null int64\n",
      "funded_amnt_inv               38970 non-null float64\n",
      "term                          38970 non-null float64\n",
      "int_rate                      38970 non-null float64\n",
      "installment                   38970 non-null float64\n",
      "grade                         38970 non-null object\n",
      "emp_length                    37900 non-null float64\n",
      "home_ownership                38970 non-null object\n",
      "annual_inc                    38970 non-null float64\n",
      "verification_status           38970 non-null object\n",
      "purpose                       38970 non-null object\n",
      "dti                           38970 non-null float64\n",
      "delinq_2yrs                   38970 non-null int64\n",
      "inq_last_6mths                38970 non-null int64\n",
      "open_acc                      38970 non-null int64\n",
      "pub_rec                       38970 non-null int64\n",
      "revol_bal                     38970 non-null int64\n",
      "revol_util                    38970 non-null float64\n",
      "total_acc                     38970 non-null int64\n",
      "total_pymnt                   38970 non-null float64\n",
      "total_pymnt_inv               38970 non-null float64\n",
      "total_rec_prncp               38970 non-null float64\n",
      "total_rec_int                 38970 non-null float64\n",
      "total_rec_late_fee            38970 non-null float64\n",
      "recoveries                    38970 non-null float64\n",
      "collection_recovery_fee       38970 non-null float64\n",
      "last_pymnt_amnt               38970 non-null float64\n",
      "collections_12_mths_ex_med    38970 non-null float64\n",
      "pub_rec_bankruptcies          38970 non-null float64\n",
      "loan_status                   38970 non-null int32\n",
      "dtypes: float64(18), int32(1), int64(8), object(4)\n",
      "memory usage: 9.4+ MB\n"
     ]
    },
    {
     "data": {
      "text/plain": [
       "loan_amnt                        0\n",
       "funded_amnt                      0\n",
       "funded_amnt_inv                  0\n",
       "term                             0\n",
       "int_rate                         0\n",
       "installment                      0\n",
       "grade                            0\n",
       "emp_length                    1070\n",
       "home_ownership                   0\n",
       "annual_inc                       0\n",
       "verification_status              0\n",
       "purpose                          0\n",
       "dti                              0\n",
       "delinq_2yrs                      0\n",
       "inq_last_6mths                   0\n",
       "open_acc                         0\n",
       "pub_rec                          0\n",
       "revol_bal                        0\n",
       "revol_util                       0\n",
       "total_acc                        0\n",
       "total_pymnt                      0\n",
       "total_pymnt_inv                  0\n",
       "total_rec_prncp                  0\n",
       "total_rec_int                    0\n",
       "total_rec_late_fee               0\n",
       "recoveries                       0\n",
       "collection_recovery_fee          0\n",
       "last_pymnt_amnt                  0\n",
       "collections_12_mths_ex_med       0\n",
       "pub_rec_bankruptcies             0\n",
       "loan_status                      0\n",
       "dtype: int64"
      ]
     },
     "execution_count": 23,
     "metadata": {},
     "output_type": "execute_result"
    }
   ],
   "source": [
    "df.info()\n",
    "df.isnull().sum()"
   ]
  },
  {
   "cell_type": "code",
   "execution_count": 24,
   "metadata": {},
   "outputs": [
    {
     "data": {
      "text/plain": [
       "(37900, 31)"
      ]
     },
     "execution_count": 24,
     "metadata": {},
     "output_type": "execute_result"
    }
   ],
   "source": [
    "df.dropna(axis=0, how='any', inplace=True)\n",
    "df.shape"
   ]
  },
  {
   "cell_type": "code",
   "execution_count": 25,
   "metadata": {
    "collapsed": true
   },
   "outputs": [],
   "source": [
    "# create dummy variables for the categorical variables\n",
    "\n",
    "grade = pd.get_dummies(df['grade'], drop_first=True, prefix='grade')\n",
    "home_ownership = pd.get_dummies(df['home_ownership'], drop_first=True, prefix='home_ownership')\n",
    "ver_status = pd.get_dummies(df['verification_status'], drop_first=True, prefix='verification_status')\n",
    "purpose = pd.get_dummies(df['purpose'], drop_first=True, prefix = 'purpose')"
   ]
  },
  {
   "cell_type": "code",
   "execution_count": 26,
   "metadata": {
    "collapsed": true
   },
   "outputs": [],
   "source": [
    "df.drop(['grade','home_ownership','verification_status','purpose'], axis=1, inplace=True)\n",
    "df = pd.concat([df, grade, home_ownership, ver_status, purpose], axis=1)"
   ]
  },
  {
   "cell_type": "code",
   "execution_count": 27,
   "metadata": {},
   "outputs": [
    {
     "name": "stdout",
     "output_type": "stream",
     "text": [
      "<class 'pandas.core.frame.DataFrame'>\n",
      "Int64Index: 37900 entries, 0 to 39692\n",
      "Data columns (total 51 columns):\n",
      "loan_amnt                             37900 non-null int64\n",
      "funded_amnt                           37900 non-null int64\n",
      "funded_amnt_inv                       37900 non-null float64\n",
      "term                                  37900 non-null float64\n",
      "int_rate                              37900 non-null float64\n",
      "installment                           37900 non-null float64\n",
      "emp_length                            37900 non-null float64\n",
      "annual_inc                            37900 non-null float64\n",
      "dti                                   37900 non-null float64\n",
      "delinq_2yrs                           37900 non-null int64\n",
      "inq_last_6mths                        37900 non-null int64\n",
      "open_acc                              37900 non-null int64\n",
      "pub_rec                               37900 non-null int64\n",
      "revol_bal                             37900 non-null int64\n",
      "revol_util                            37900 non-null float64\n",
      "total_acc                             37900 non-null int64\n",
      "total_pymnt                           37900 non-null float64\n",
      "total_pymnt_inv                       37900 non-null float64\n",
      "total_rec_prncp                       37900 non-null float64\n",
      "total_rec_int                         37900 non-null float64\n",
      "total_rec_late_fee                    37900 non-null float64\n",
      "recoveries                            37900 non-null float64\n",
      "collection_recovery_fee               37900 non-null float64\n",
      "last_pymnt_amnt                       37900 non-null float64\n",
      "collections_12_mths_ex_med            37900 non-null float64\n",
      "pub_rec_bankruptcies                  37900 non-null float64\n",
      "loan_status                           37900 non-null int32\n",
      "grade_B                               37900 non-null uint8\n",
      "grade_C                               37900 non-null uint8\n",
      "grade_D                               37900 non-null uint8\n",
      "grade_E                               37900 non-null uint8\n",
      "grade_F                               37900 non-null uint8\n",
      "grade_G                               37900 non-null uint8\n",
      "home_ownership_OTHER                  37900 non-null uint8\n",
      "home_ownership_OWN                    37900 non-null uint8\n",
      "home_ownership_RENT                   37900 non-null uint8\n",
      "verification_status_SourceVerified    37900 non-null uint8\n",
      "verification_status_Verified          37900 non-null uint8\n",
      "purpose_credit_card                   37900 non-null uint8\n",
      "purpose_debt_consolidation            37900 non-null uint8\n",
      "purpose_educational                   37900 non-null uint8\n",
      "purpose_home_improvement              37900 non-null uint8\n",
      "purpose_house                         37900 non-null uint8\n",
      "purpose_major_purchase                37900 non-null uint8\n",
      "purpose_medical                       37900 non-null uint8\n",
      "purpose_moving                        37900 non-null uint8\n",
      "purpose_other                         37900 non-null uint8\n",
      "purpose_renewable_energy              37900 non-null uint8\n",
      "purpose_small_business                37900 non-null uint8\n",
      "purpose_vacation                      37900 non-null uint8\n",
      "purpose_wedding                       37900 non-null uint8\n",
      "dtypes: float64(18), int32(1), int64(8), uint8(24)\n",
      "memory usage: 8.8 MB\n"
     ]
    }
   ],
   "source": [
    "df.info()"
   ]
  },
  {
   "cell_type": "code",
   "execution_count": 28,
   "metadata": {},
   "outputs": [
    {
     "data": {
      "image/png": "[encoded data removed]",
      "text/plain": [
       "<matplotlib.figure.Figure at 0x213bc68e0f0>"
      ]
     },
     "metadata": {},
     "output_type": "display_data"
    }
   ],
   "source": [
    "corrmat = df.corr()\n",
    "f, ax = plt.subplots(figsize=(12, 10))\n",
    "sns.heatmap(corrmat, vmax = 0.8, square=True);"
   ]
  },
  {
   "cell_type": "code",
   "execution_count": 29,
   "metadata": {},
   "outputs": [
    {
     "name": "stderr",
     "output_type": "stream",
     "text": [
      "C:\\ProgramData\\Anaconda3\\envs\\deeplearning\\lib\\site-packages\\sklearn\\cross_validation.py:41: DeprecationWarning: This module was deprecated in version 0.18 in favor of the model_selection module into which all the refactored classes and functions are moved. Also note that the interface of the new CV iterators are different from that of this module. This module will be removed in 0.20.\n",
      "  \"This module will be removed in 0.20.\", DeprecationWarning)\n"
     ]
    },
    {
     "data": {
      "text/plain": [
       "((30320, 50), (30320,), (7580, 50), (7580,))"
      ]
     },
     "execution_count": 29,
     "metadata": {},
     "output_type": "execute_result"
    }
   ],
   "source": [
    "# Identify important features\n",
    "\n",
    "df_temp = df\n",
    "y_temp = df_temp['loan_status']\n",
    "df_temp = df_temp.drop(['loan_status'], axis=1)\n",
    "X_temp = df_temp\n",
    "\n",
    "from sklearn.preprocessing import MinMaxScaler\n",
    "scaler = MinMaxScaler(feature_range=(0,1))\n",
    "arr_scaler_temp = scaler.fit_transform(X_temp)\n",
    "scaled_X_temp = pd.DataFrame(arr_scaler_temp, columns=X_temp.columns)\n",
    "\n",
    "from sklearn.cross_validation import train_test_split\n",
    "X_train_temp, X_test_temp, y_train_temp, y_test_temp = train_test_split(scaled_X_temp, y_temp, test_size = 0.2, random_state = 0)\n",
    "X_train_temp.shape, y_train_temp.shape, X_test_temp.shape, y_test_temp.shape"
   ]
  },
  {
   "cell_type": "code",
   "execution_count": 30,
   "metadata": {},
   "outputs": [
    {
     "data": {
      "text/plain": [
       "RandomForestClassifier(bootstrap=True, class_weight=None, criterion='gini',\n",
       "            max_depth=None, max_features='auto', max_leaf_nodes=None,\n",
       "            min_impurity_decrease=0.0, min_impurity_split=None,\n",
       "            min_samples_leaf=1, min_samples_split=2,\n",
       "            min_weight_fraction_leaf=0.0, n_estimators=100, n_jobs=1,\n",
       "            oob_score=False, random_state=None, verbose=0,\n",
       "            warm_start=False)"
      ]
     },
     "execution_count": 30,
     "metadata": {},
     "output_type": "execute_result"
    },
    {
     "data": {
      "text/html": [
       "<div>\n",
       "<style>\n",
       "    .dataframe thead tr:only-child th {\n",
       "        text-align: right;\n",
       "    }\n",
       "\n",
       "    .dataframe thead th {\n",
       "        text-align: left;\n",
       "    }\n",
       "\n",
       "    .dataframe tbody tr th {\n",
       "        vertical-align: top;\n",
       "    }\n",
       "</style>\n",
       "<table border=\"1\" class=\"dataframe\">\n",
       "  <thead>\n",
       "    <tr style=\"text-align: right;\">\n",
       "      <th></th>\n",
       "      <th>Gini_Imp</th>\n",
       "      <th>Features</th>\n",
       "    </tr>\n",
       "  </thead>\n",
       "  <tbody>\n",
       "    <tr>\n",
       "      <th>21</th>\n",
       "      <td>0.480019</td>\n",
       "      <td>recoveries</td>\n",
       "    </tr>\n",
       "    <tr>\n",
       "      <th>22</th>\n",
       "      <td>0.219981</td>\n",
       "      <td>collection_recovery_fee</td>\n",
       "    </tr>\n",
       "    <tr>\n",
       "      <th>18</th>\n",
       "      <td>0.091420</td>\n",
       "      <td>total_rec_prncp</td>\n",
       "    </tr>\n",
       "    <tr>\n",
       "      <th>16</th>\n",
       "      <td>0.038334</td>\n",
       "      <td>total_pymnt</td>\n",
       "    </tr>\n",
       "    <tr>\n",
       "      <th>17</th>\n",
       "      <td>0.032312</td>\n",
       "      <td>total_pymnt_inv</td>\n",
       "    </tr>\n",
       "    <tr>\n",
       "      <th>23</th>\n",
       "      <td>0.027334</td>\n",
       "      <td>last_pymnt_amnt</td>\n",
       "    </tr>\n",
       "    <tr>\n",
       "      <th>2</th>\n",
       "      <td>0.022304</td>\n",
       "      <td>funded_amnt_inv</td>\n",
       "    </tr>\n",
       "    <tr>\n",
       "      <th>1</th>\n",
       "      <td>0.021633</td>\n",
       "      <td>funded_amnt</td>\n",
       "    </tr>\n",
       "    <tr>\n",
       "      <th>5</th>\n",
       "      <td>0.015919</td>\n",
       "      <td>installment</td>\n",
       "    </tr>\n",
       "    <tr>\n",
       "      <th>0</th>\n",
       "      <td>0.015590</td>\n",
       "      <td>loan_amnt</td>\n",
       "    </tr>\n",
       "    <tr>\n",
       "      <th>4</th>\n",
       "      <td>0.006317</td>\n",
       "      <td>int_rate</td>\n",
       "    </tr>\n",
       "    <tr>\n",
       "      <th>20</th>\n",
       "      <td>0.006069</td>\n",
       "      <td>total_rec_late_fee</td>\n",
       "    </tr>\n",
       "    <tr>\n",
       "      <th>19</th>\n",
       "      <td>0.005944</td>\n",
       "      <td>total_rec_int</td>\n",
       "    </tr>\n",
       "    <tr>\n",
       "      <th>3</th>\n",
       "      <td>0.004845</td>\n",
       "      <td>term</td>\n",
       "    </tr>\n",
       "    <tr>\n",
       "      <th>13</th>\n",
       "      <td>0.001824</td>\n",
       "      <td>revol_bal</td>\n",
       "    </tr>\n",
       "    <tr>\n",
       "      <th>14</th>\n",
       "      <td>0.001415</td>\n",
       "      <td>revol_util</td>\n",
       "    </tr>\n",
       "    <tr>\n",
       "      <th>7</th>\n",
       "      <td>0.001042</td>\n",
       "      <td>annual_inc</td>\n",
       "    </tr>\n",
       "    <tr>\n",
       "      <th>8</th>\n",
       "      <td>0.001001</td>\n",
       "      <td>dti</td>\n",
       "    </tr>\n",
       "    <tr>\n",
       "      <th>29</th>\n",
       "      <td>0.000887</td>\n",
       "      <td>grade_E</td>\n",
       "    </tr>\n",
       "    <tr>\n",
       "      <th>15</th>\n",
       "      <td>0.000857</td>\n",
       "      <td>total_acc</td>\n",
       "    </tr>\n",
       "    <tr>\n",
       "      <th>11</th>\n",
       "      <td>0.000798</td>\n",
       "      <td>open_acc</td>\n",
       "    </tr>\n",
       "    <tr>\n",
       "      <th>6</th>\n",
       "      <td>0.000479</td>\n",
       "      <td>emp_length</td>\n",
       "    </tr>\n",
       "    <tr>\n",
       "      <th>10</th>\n",
       "      <td>0.000428</td>\n",
       "      <td>inq_last_6mths</td>\n",
       "    </tr>\n",
       "    <tr>\n",
       "      <th>47</th>\n",
       "      <td>0.000411</td>\n",
       "      <td>purpose_small_business</td>\n",
       "    </tr>\n",
       "    <tr>\n",
       "      <th>28</th>\n",
       "      <td>0.000335</td>\n",
       "      <td>grade_D</td>\n",
       "    </tr>\n",
       "    <tr>\n",
       "      <th>36</th>\n",
       "      <td>0.000306</td>\n",
       "      <td>verification_status_Verified</td>\n",
       "    </tr>\n",
       "    <tr>\n",
       "      <th>25</th>\n",
       "      <td>0.000270</td>\n",
       "      <td>pub_rec_bankruptcies</td>\n",
       "    </tr>\n",
       "    <tr>\n",
       "      <th>38</th>\n",
       "      <td>0.000242</td>\n",
       "      <td>purpose_debt_consolidation</td>\n",
       "    </tr>\n",
       "    <tr>\n",
       "      <th>27</th>\n",
       "      <td>0.000220</td>\n",
       "      <td>grade_C</td>\n",
       "    </tr>\n",
       "    <tr>\n",
       "      <th>34</th>\n",
       "      <td>0.000180</td>\n",
       "      <td>home_ownership_RENT</td>\n",
       "    </tr>\n",
       "    <tr>\n",
       "      <th>26</th>\n",
       "      <td>0.000153</td>\n",
       "      <td>grade_B</td>\n",
       "    </tr>\n",
       "    <tr>\n",
       "      <th>9</th>\n",
       "      <td>0.000143</td>\n",
       "      <td>delinq_2yrs</td>\n",
       "    </tr>\n",
       "    <tr>\n",
       "      <th>30</th>\n",
       "      <td>0.000133</td>\n",
       "      <td>grade_F</td>\n",
       "    </tr>\n",
       "    <tr>\n",
       "      <th>45</th>\n",
       "      <td>0.000118</td>\n",
       "      <td>purpose_other</td>\n",
       "    </tr>\n",
       "    <tr>\n",
       "      <th>35</th>\n",
       "      <td>0.000108</td>\n",
       "      <td>verification_status_SourceVerified</td>\n",
       "    </tr>\n",
       "    <tr>\n",
       "      <th>12</th>\n",
       "      <td>0.000105</td>\n",
       "      <td>pub_rec</td>\n",
       "    </tr>\n",
       "    <tr>\n",
       "      <th>39</th>\n",
       "      <td>0.000089</td>\n",
       "      <td>purpose_educational</td>\n",
       "    </tr>\n",
       "    <tr>\n",
       "      <th>37</th>\n",
       "      <td>0.000079</td>\n",
       "      <td>purpose_credit_card</td>\n",
       "    </tr>\n",
       "    <tr>\n",
       "      <th>33</th>\n",
       "      <td>0.000069</td>\n",
       "      <td>home_ownership_OWN</td>\n",
       "    </tr>\n",
       "    <tr>\n",
       "      <th>42</th>\n",
       "      <td>0.000063</td>\n",
       "      <td>purpose_major_purchase</td>\n",
       "    </tr>\n",
       "    <tr>\n",
       "      <th>40</th>\n",
       "      <td>0.000058</td>\n",
       "      <td>purpose_home_improvement</td>\n",
       "    </tr>\n",
       "    <tr>\n",
       "      <th>32</th>\n",
       "      <td>0.000039</td>\n",
       "      <td>home_ownership_OTHER</td>\n",
       "    </tr>\n",
       "    <tr>\n",
       "      <th>43</th>\n",
       "      <td>0.000035</td>\n",
       "      <td>purpose_medical</td>\n",
       "    </tr>\n",
       "    <tr>\n",
       "      <th>31</th>\n",
       "      <td>0.000024</td>\n",
       "      <td>grade_G</td>\n",
       "    </tr>\n",
       "    <tr>\n",
       "      <th>48</th>\n",
       "      <td>0.000021</td>\n",
       "      <td>purpose_vacation</td>\n",
       "    </tr>\n",
       "    <tr>\n",
       "      <th>44</th>\n",
       "      <td>0.000018</td>\n",
       "      <td>purpose_moving</td>\n",
       "    </tr>\n",
       "    <tr>\n",
       "      <th>41</th>\n",
       "      <td>0.000015</td>\n",
       "      <td>purpose_house</td>\n",
       "    </tr>\n",
       "    <tr>\n",
       "      <th>49</th>\n",
       "      <td>0.000008</td>\n",
       "      <td>purpose_wedding</td>\n",
       "    </tr>\n",
       "    <tr>\n",
       "      <th>46</th>\n",
       "      <td>0.000007</td>\n",
       "      <td>purpose_renewable_energy</td>\n",
       "    </tr>\n",
       "    <tr>\n",
       "      <th>24</th>\n",
       "      <td>0.000000</td>\n",
       "      <td>collections_12_mths_ex_med</td>\n",
       "    </tr>\n",
       "  </tbody>\n",
       "</table>\n",
       "</div>"
      ],
      "text/plain": [
       "    Gini_Imp                            Features\n",
       "21  0.480019                          recoveries\n",
       "22  0.219981             collection_recovery_fee\n",
       "18  0.091420                     total_rec_prncp\n",
       "16  0.038334                         total_pymnt\n",
       "17  0.032312                     total_pymnt_inv\n",
       "23  0.027334                     last_pymnt_amnt\n",
       "2   0.022304                     funded_amnt_inv\n",
       "1   0.021633                         funded_amnt\n",
       "5   0.015919                         installment\n",
       "0   0.015590                           loan_amnt\n",
       "4   0.006317                            int_rate\n",
       "20  0.006069                  total_rec_late_fee\n",
       "19  0.005944                       total_rec_int\n",
       "3   0.004845                                term\n",
       "13  0.001824                           revol_bal\n",
       "14  0.001415                          revol_util\n",
       "7   0.001042                          annual_inc\n",
       "8   0.001001                                 dti\n",
       "29  0.000887                             grade_E\n",
       "15  0.000857                           total_acc\n",
       "11  0.000798                            open_acc\n",
       "6   0.000479                          emp_length\n",
       "10  0.000428                      inq_last_6mths\n",
       "47  0.000411              purpose_small_business\n",
       "28  0.000335                             grade_D\n",
       "36  0.000306        verification_status_Verified\n",
       "25  0.000270                pub_rec_bankruptcies\n",
       "38  0.000242          purpose_debt_consolidation\n",
       "27  0.000220                             grade_C\n",
       "34  0.000180                 home_ownership_RENT\n",
       "26  0.000153                             grade_B\n",
       "9   0.000143                         delinq_2yrs\n",
       "30  0.000133                             grade_F\n",
       "45  0.000118                       purpose_other\n",
       "35  0.000108  verification_status_SourceVerified\n",
       "12  0.000105                             pub_rec\n",
       "39  0.000089                 purpose_educational\n",
       "37  0.000079                 purpose_credit_card\n",
       "33  0.000069                  home_ownership_OWN\n",
       "42  0.000063              purpose_major_purchase\n",
       "40  0.000058            purpose_home_improvement\n",
       "32  0.000039                home_ownership_OTHER\n",
       "43  0.000035                     purpose_medical\n",
       "31  0.000024                             grade_G\n",
       "48  0.000021                    purpose_vacation\n",
       "44  0.000018                      purpose_moving\n",
       "41  0.000015                       purpose_house\n",
       "49  0.000008                     purpose_wedding\n",
       "46  0.000007            purpose_renewable_energy\n",
       "24  0.000000          collections_12_mths_ex_med"
      ]
     },
     "execution_count": 30,
     "metadata": {},
     "output_type": "execute_result"
    }
   ],
   "source": [
    "# Random Forest\n",
    "\n",
    "random_forest = RandomForestClassifier(n_estimators=100)\n",
    "\n",
    "# Fit the model\n",
    "\n",
    "random_forest.fit(X_train_temp, y_train_temp)\n",
    "\n",
    "# Print the name and Gini importance of each feature\n",
    "\n",
    "GI_df = pd.DataFrame(random_forest.feature_importances_, columns=['Gini_Imp'])\n",
    "GI_df['Features'] = X_temp.columns\n",
    "GI_df.sort_values('Gini_Imp', ascending=False)"
   ]
  },
  {
   "cell_type": "code",
   "execution_count": 31,
   "metadata": {
    "collapsed": true
   },
   "outputs": [],
   "source": [
    "# Create a dataset with top 15 variables which contribute towards 99% of prediction\n",
    "\n",
    "df_temp = df[['loan_status', 'recoveries', 'collection_recovery_fee', 'total_rec_prncp', 'total_pymnt', 'funded_amnt_inv', 'total_pymnt_inv', 'funded_amnt', 'last_pymnt_amnt', 'installment', 'loan_amnt', 'total_rec_int', 'term', 'total_rec_late_fee', 'int_rate', 'revol_util']]"
   ]
  },
  {
   "cell_type": "code",
   "execution_count": 32,
   "metadata": {
    "collapsed": true
   },
   "outputs": [],
   "source": [
    "# Check Variance Inflation Factor and remove variables with high VIF\n",
    "\n",
    "from patsy import dmatrices\n",
    "import statsmodels.api as sm\n",
    "from statsmodels.stats.outliers_influence import variance_inflation_factor"
   ]
  },
  {
   "cell_type": "code",
   "execution_count": 33,
   "metadata": {},
   "outputs": [
    {
     "data": {
      "text/html": [
       "<div>\n",
       "<style>\n",
       "    .dataframe thead tr:only-child th {\n",
       "        text-align: right;\n",
       "    }\n",
       "\n",
       "    .dataframe thead th {\n",
       "        text-align: left;\n",
       "    }\n",
       "\n",
       "    .dataframe tbody tr th {\n",
       "        vertical-align: top;\n",
       "    }\n",
       "</style>\n",
       "<table border=\"1\" class=\"dataframe\">\n",
       "  <thead>\n",
       "    <tr style=\"text-align: right;\">\n",
       "      <th></th>\n",
       "      <th>VIF Factor</th>\n",
       "      <th>features</th>\n",
       "    </tr>\n",
       "  </thead>\n",
       "  <tbody>\n",
       "    <tr>\n",
       "      <th>4</th>\n",
       "      <td>1.200960e+13</td>\n",
       "      <td>total_pymnt</td>\n",
       "    </tr>\n",
       "    <tr>\n",
       "      <th>3</th>\n",
       "      <td>7.275605e+12</td>\n",
       "      <td>total_rec_prncp</td>\n",
       "    </tr>\n",
       "    <tr>\n",
       "      <th>11</th>\n",
       "      <td>1.001134e+12</td>\n",
       "      <td>total_rec_int</td>\n",
       "    </tr>\n",
       "    <tr>\n",
       "      <th>1</th>\n",
       "      <td>7.126400e+10</td>\n",
       "      <td>recoveries</td>\n",
       "    </tr>\n",
       "    <tr>\n",
       "      <th>13</th>\n",
       "      <td>7.538358e+06</td>\n",
       "      <td>total_rec_late_fee</td>\n",
       "    </tr>\n",
       "    <tr>\n",
       "      <th>7</th>\n",
       "      <td>2.051483e+02</td>\n",
       "      <td>funded_amnt</td>\n",
       "    </tr>\n",
       "    <tr>\n",
       "      <th>6</th>\n",
       "      <td>1.765577e+02</td>\n",
       "      <td>total_pymnt_inv</td>\n",
       "    </tr>\n",
       "    <tr>\n",
       "      <th>5</th>\n",
       "      <td>1.264956e+02</td>\n",
       "      <td>funded_amnt_inv</td>\n",
       "    </tr>\n",
       "    <tr>\n",
       "      <th>0</th>\n",
       "      <td>5.943805e+01</td>\n",
       "      <td>Intercept</td>\n",
       "    </tr>\n",
       "    <tr>\n",
       "      <th>9</th>\n",
       "      <td>5.007473e+01</td>\n",
       "      <td>installment</td>\n",
       "    </tr>\n",
       "    <tr>\n",
       "      <th>10</th>\n",
       "      <td>2.777323e+01</td>\n",
       "      <td>loan_amnt</td>\n",
       "    </tr>\n",
       "    <tr>\n",
       "      <th>12</th>\n",
       "      <td>5.137563e+00</td>\n",
       "      <td>term</td>\n",
       "    </tr>\n",
       "    <tr>\n",
       "      <th>2</th>\n",
       "      <td>2.971945e+00</td>\n",
       "      <td>collection_recovery_fee</td>\n",
       "    </tr>\n",
       "    <tr>\n",
       "      <th>14</th>\n",
       "      <td>2.895327e+00</td>\n",
       "      <td>int_rate</td>\n",
       "    </tr>\n",
       "    <tr>\n",
       "      <th>8</th>\n",
       "      <td>2.034880e+00</td>\n",
       "      <td>last_pymnt_amnt</td>\n",
       "    </tr>\n",
       "    <tr>\n",
       "      <th>15</th>\n",
       "      <td>1.330640e+00</td>\n",
       "      <td>revol_util</td>\n",
       "    </tr>\n",
       "  </tbody>\n",
       "</table>\n",
       "</div>"
      ],
      "text/plain": [
       "      VIF Factor                 features\n",
       "4   1.200960e+13              total_pymnt\n",
       "3   7.275605e+12          total_rec_prncp\n",
       "11  1.001134e+12            total_rec_int\n",
       "1   7.126400e+10               recoveries\n",
       "13  7.538358e+06       total_rec_late_fee\n",
       "7   2.051483e+02              funded_amnt\n",
       "6   1.765577e+02          total_pymnt_inv\n",
       "5   1.264956e+02          funded_amnt_inv\n",
       "0   5.943805e+01                Intercept\n",
       "9   5.007473e+01              installment\n",
       "10  2.777323e+01                loan_amnt\n",
       "12  5.137563e+00                     term\n",
       "2   2.971945e+00  collection_recovery_fee\n",
       "14  2.895327e+00                 int_rate\n",
       "8   2.034880e+00          last_pymnt_amnt\n",
       "15  1.330640e+00               revol_util"
      ]
     },
     "execution_count": 33,
     "metadata": {},
     "output_type": "execute_result"
    }
   ],
   "source": [
    "y, X = dmatrices('loan_status ~ recoveries + collection_recovery_fee + total_rec_prncp + total_pymnt + funded_amnt_inv + total_pymnt_inv + funded_amnt + last_pymnt_amnt + installment + loan_amnt + total_rec_int + term + total_rec_late_fee + int_rate + revol_util', df, return_type='dataframe')\n",
    "vif = pd.DataFrame()\n",
    "vif['VIF Factor'] = [variance_inflation_factor(X.values, i) for i in range(X.shape[1])]\n",
    "vif['features'] = X.columns\n",
    "vif.sort_values('VIF Factor', ascending=False)"
   ]
  },
  {
   "cell_type": "code",
   "execution_count": 34,
   "metadata": {},
   "outputs": [
    {
     "data": {
      "text/html": [
       "<div>\n",
       "<style>\n",
       "    .dataframe thead tr:only-child th {\n",
       "        text-align: right;\n",
       "    }\n",
       "\n",
       "    .dataframe thead th {\n",
       "        text-align: left;\n",
       "    }\n",
       "\n",
       "    .dataframe tbody tr th {\n",
       "        vertical-align: top;\n",
       "    }\n",
       "</style>\n",
       "<table border=\"1\" class=\"dataframe\">\n",
       "  <thead>\n",
       "    <tr style=\"text-align: right;\">\n",
       "      <th></th>\n",
       "      <th>VIF Factor</th>\n",
       "      <th>features</th>\n",
       "    </tr>\n",
       "  </thead>\n",
       "  <tbody>\n",
       "    <tr>\n",
       "      <th>6</th>\n",
       "      <td>205.128378</td>\n",
       "      <td>funded_amnt</td>\n",
       "    </tr>\n",
       "    <tr>\n",
       "      <th>5</th>\n",
       "      <td>176.547607</td>\n",
       "      <td>total_pymnt_inv</td>\n",
       "    </tr>\n",
       "    <tr>\n",
       "      <th>4</th>\n",
       "      <td>126.495596</td>\n",
       "      <td>funded_amnt_inv</td>\n",
       "    </tr>\n",
       "    <tr>\n",
       "      <th>3</th>\n",
       "      <td>103.168244</td>\n",
       "      <td>total_rec_prncp</td>\n",
       "    </tr>\n",
       "    <tr>\n",
       "      <th>0</th>\n",
       "      <td>59.433187</td>\n",
       "      <td>Intercept</td>\n",
       "    </tr>\n",
       "    <tr>\n",
       "      <th>8</th>\n",
       "      <td>50.072383</td>\n",
       "      <td>installment</td>\n",
       "    </tr>\n",
       "    <tr>\n",
       "      <th>9</th>\n",
       "      <td>27.769061</td>\n",
       "      <td>loan_amnt</td>\n",
       "    </tr>\n",
       "    <tr>\n",
       "      <th>10</th>\n",
       "      <td>19.264897</td>\n",
       "      <td>total_rec_int</td>\n",
       "    </tr>\n",
       "    <tr>\n",
       "      <th>11</th>\n",
       "      <td>5.137466</td>\n",
       "      <td>term</td>\n",
       "    </tr>\n",
       "    <tr>\n",
       "      <th>1</th>\n",
       "      <td>4.292552</td>\n",
       "      <td>recoveries</td>\n",
       "    </tr>\n",
       "    <tr>\n",
       "      <th>2</th>\n",
       "      <td>2.971895</td>\n",
       "      <td>collection_recovery_fee</td>\n",
       "    </tr>\n",
       "    <tr>\n",
       "      <th>13</th>\n",
       "      <td>2.895122</td>\n",
       "      <td>int_rate</td>\n",
       "    </tr>\n",
       "    <tr>\n",
       "      <th>7</th>\n",
       "      <td>2.034154</td>\n",
       "      <td>last_pymnt_amnt</td>\n",
       "    </tr>\n",
       "    <tr>\n",
       "      <th>14</th>\n",
       "      <td>1.330634</td>\n",
       "      <td>revol_util</td>\n",
       "    </tr>\n",
       "    <tr>\n",
       "      <th>12</th>\n",
       "      <td>1.039233</td>\n",
       "      <td>total_rec_late_fee</td>\n",
       "    </tr>\n",
       "  </tbody>\n",
       "</table>\n",
       "</div>"
      ],
      "text/plain": [
       "    VIF Factor                 features\n",
       "6   205.128378              funded_amnt\n",
       "5   176.547607          total_pymnt_inv\n",
       "4   126.495596          funded_amnt_inv\n",
       "3   103.168244          total_rec_prncp\n",
       "0    59.433187                Intercept\n",
       "8    50.072383              installment\n",
       "9    27.769061                loan_amnt\n",
       "10   19.264897            total_rec_int\n",
       "11    5.137466                     term\n",
       "1     4.292552               recoveries\n",
       "2     2.971895  collection_recovery_fee\n",
       "13    2.895122                 int_rate\n",
       "7     2.034154          last_pymnt_amnt\n",
       "14    1.330634               revol_util\n",
       "12    1.039233       total_rec_late_fee"
      ]
     },
     "execution_count": 34,
     "metadata": {},
     "output_type": "execute_result"
    }
   ],
   "source": [
    "# Remove the variable with the highest VIF\n",
    "# Repeat until all variables have VIF < 5\n",
    "\n",
    "y, X = dmatrices('loan_status ~ recoveries + collection_recovery_fee + total_rec_prncp + funded_amnt_inv + total_pymnt_inv + funded_amnt + last_pymnt_amnt + installment + loan_amnt + total_rec_int + term + total_rec_late_fee + int_rate + revol_util', df, return_type='dataframe')\n",
    "vif = pd.DataFrame()\n",
    "vif['VIF Factor'] = [variance_inflation_factor(X.values, i) for i in range(X.shape[1])]\n",
    "vif['features'] = X.columns\n",
    "vif.sort_values('VIF Factor', ascending=False)"
   ]
  },
  {
   "cell_type": "code",
   "execution_count": 35,
   "metadata": {},
   "outputs": [
    {
     "data": {
      "text/html": [
       "<div>\n",
       "<style>\n",
       "    .dataframe thead tr:only-child th {\n",
       "        text-align: right;\n",
       "    }\n",
       "\n",
       "    .dataframe thead th {\n",
       "        text-align: left;\n",
       "    }\n",
       "\n",
       "    .dataframe tbody tr th {\n",
       "        vertical-align: top;\n",
       "    }\n",
       "</style>\n",
       "<table border=\"1\" class=\"dataframe\">\n",
       "  <thead>\n",
       "    <tr style=\"text-align: right;\">\n",
       "      <th></th>\n",
       "      <th>VIF Factor</th>\n",
       "      <th>features</th>\n",
       "    </tr>\n",
       "  </thead>\n",
       "  <tbody>\n",
       "    <tr>\n",
       "      <th>5</th>\n",
       "      <td>91.376450</td>\n",
       "      <td>total_pymnt_inv</td>\n",
       "    </tr>\n",
       "    <tr>\n",
       "      <th>3</th>\n",
       "      <td>57.881265</td>\n",
       "      <td>total_rec_prncp</td>\n",
       "    </tr>\n",
       "    <tr>\n",
       "      <th>0</th>\n",
       "      <td>55.050624</td>\n",
       "      <td>Intercept</td>\n",
       "    </tr>\n",
       "    <tr>\n",
       "      <th>4</th>\n",
       "      <td>53.818252</td>\n",
       "      <td>funded_amnt_inv</td>\n",
       "    </tr>\n",
       "    <tr>\n",
       "      <th>7</th>\n",
       "      <td>35.600102</td>\n",
       "      <td>installment</td>\n",
       "    </tr>\n",
       "    <tr>\n",
       "      <th>8</th>\n",
       "      <td>23.668352</td>\n",
       "      <td>loan_amnt</td>\n",
       "    </tr>\n",
       "    <tr>\n",
       "      <th>9</th>\n",
       "      <td>10.194849</td>\n",
       "      <td>total_rec_int</td>\n",
       "    </tr>\n",
       "    <tr>\n",
       "      <th>10</th>\n",
       "      <td>4.324290</td>\n",
       "      <td>term</td>\n",
       "    </tr>\n",
       "    <tr>\n",
       "      <th>1</th>\n",
       "      <td>3.733635</td>\n",
       "      <td>recoveries</td>\n",
       "    </tr>\n",
       "    <tr>\n",
       "      <th>2</th>\n",
       "      <td>2.970719</td>\n",
       "      <td>collection_recovery_fee</td>\n",
       "    </tr>\n",
       "    <tr>\n",
       "      <th>12</th>\n",
       "      <td>2.724863</td>\n",
       "      <td>int_rate</td>\n",
       "    </tr>\n",
       "    <tr>\n",
       "      <th>6</th>\n",
       "      <td>1.992058</td>\n",
       "      <td>last_pymnt_amnt</td>\n",
       "    </tr>\n",
       "    <tr>\n",
       "      <th>13</th>\n",
       "      <td>1.330196</td>\n",
       "      <td>revol_util</td>\n",
       "    </tr>\n",
       "    <tr>\n",
       "      <th>11</th>\n",
       "      <td>1.039085</td>\n",
       "      <td>total_rec_late_fee</td>\n",
       "    </tr>\n",
       "  </tbody>\n",
       "</table>\n",
       "</div>"
      ],
      "text/plain": [
       "    VIF Factor                 features\n",
       "5    91.376450          total_pymnt_inv\n",
       "3    57.881265          total_rec_prncp\n",
       "0    55.050624                Intercept\n",
       "4    53.818252          funded_amnt_inv\n",
       "7    35.600102              installment\n",
       "8    23.668352                loan_amnt\n",
       "9    10.194849            total_rec_int\n",
       "10    4.324290                     term\n",
       "1     3.733635               recoveries\n",
       "2     2.970719  collection_recovery_fee\n",
       "12    2.724863                 int_rate\n",
       "6     1.992058          last_pymnt_amnt\n",
       "13    1.330196               revol_util\n",
       "11    1.039085       total_rec_late_fee"
      ]
     },
     "execution_count": 35,
     "metadata": {},
     "output_type": "execute_result"
    }
   ],
   "source": [
    "y, X = dmatrices('loan_status ~ recoveries + collection_recovery_fee + total_rec_prncp + funded_amnt_inv + total_pymnt_inv + last_pymnt_amnt + installment + loan_amnt + total_rec_int + term + total_rec_late_fee + int_rate + revol_util', df, return_type='dataframe')\n",
    "vif = pd.DataFrame()\n",
    "vif['VIF Factor'] = [variance_inflation_factor(X.values, i) for i in range(X.shape[1])]\n",
    "vif['features'] = X.columns\n",
    "vif.sort_values('VIF Factor', ascending=False)"
   ]
  },
  {
   "cell_type": "code",
   "execution_count": 36,
   "metadata": {},
   "outputs": [
    {
     "data": {
      "text/html": [
       "<div>\n",
       "<style>\n",
       "    .dataframe thead tr:only-child th {\n",
       "        text-align: right;\n",
       "    }\n",
       "\n",
       "    .dataframe thead th {\n",
       "        text-align: left;\n",
       "    }\n",
       "\n",
       "    .dataframe tbody tr th {\n",
       "        vertical-align: top;\n",
       "    }\n",
       "</style>\n",
       "<table border=\"1\" class=\"dataframe\">\n",
       "  <thead>\n",
       "    <tr style=\"text-align: right;\">\n",
       "      <th></th>\n",
       "      <th>VIF Factor</th>\n",
       "      <th>features</th>\n",
       "    </tr>\n",
       "  </thead>\n",
       "  <tbody>\n",
       "    <tr>\n",
       "      <th>0</th>\n",
       "      <td>51.414927</td>\n",
       "      <td>Intercept</td>\n",
       "    </tr>\n",
       "    <tr>\n",
       "      <th>6</th>\n",
       "      <td>24.038401</td>\n",
       "      <td>installment</td>\n",
       "    </tr>\n",
       "    <tr>\n",
       "      <th>7</th>\n",
       "      <td>19.819815</td>\n",
       "      <td>loan_amnt</td>\n",
       "    </tr>\n",
       "    <tr>\n",
       "      <th>4</th>\n",
       "      <td>16.044478</td>\n",
       "      <td>funded_amnt_inv</td>\n",
       "    </tr>\n",
       "    <tr>\n",
       "      <th>3</th>\n",
       "      <td>8.335240</td>\n",
       "      <td>total_rec_prncp</td>\n",
       "    </tr>\n",
       "    <tr>\n",
       "      <th>8</th>\n",
       "      <td>4.896596</td>\n",
       "      <td>total_rec_int</td>\n",
       "    </tr>\n",
       "    <tr>\n",
       "      <th>9</th>\n",
       "      <td>3.684012</td>\n",
       "      <td>term</td>\n",
       "    </tr>\n",
       "    <tr>\n",
       "      <th>1</th>\n",
       "      <td>3.457233</td>\n",
       "      <td>recoveries</td>\n",
       "    </tr>\n",
       "    <tr>\n",
       "      <th>2</th>\n",
       "      <td>2.961556</td>\n",
       "      <td>collection_recovery_fee</td>\n",
       "    </tr>\n",
       "    <tr>\n",
       "      <th>11</th>\n",
       "      <td>2.603529</td>\n",
       "      <td>int_rate</td>\n",
       "    </tr>\n",
       "    <tr>\n",
       "      <th>5</th>\n",
       "      <td>1.964517</td>\n",
       "      <td>last_pymnt_amnt</td>\n",
       "    </tr>\n",
       "    <tr>\n",
       "      <th>12</th>\n",
       "      <td>1.329620</td>\n",
       "      <td>revol_util</td>\n",
       "    </tr>\n",
       "    <tr>\n",
       "      <th>10</th>\n",
       "      <td>1.039078</td>\n",
       "      <td>total_rec_late_fee</td>\n",
       "    </tr>\n",
       "  </tbody>\n",
       "</table>\n",
       "</div>"
      ],
      "text/plain": [
       "    VIF Factor                 features\n",
       "0    51.414927                Intercept\n",
       "6    24.038401              installment\n",
       "7    19.819815                loan_amnt\n",
       "4    16.044478          funded_amnt_inv\n",
       "3     8.335240          total_rec_prncp\n",
       "8     4.896596            total_rec_int\n",
       "9     3.684012                     term\n",
       "1     3.457233               recoveries\n",
       "2     2.961556  collection_recovery_fee\n",
       "11    2.603529                 int_rate\n",
       "5     1.964517          last_pymnt_amnt\n",
       "12    1.329620               revol_util\n",
       "10    1.039078       total_rec_late_fee"
      ]
     },
     "execution_count": 36,
     "metadata": {},
     "output_type": "execute_result"
    }
   ],
   "source": [
    "y, X = dmatrices('loan_status ~ recoveries + collection_recovery_fee + total_rec_prncp + funded_amnt_inv + last_pymnt_amnt + installment + loan_amnt + total_rec_int + term + total_rec_late_fee + int_rate + revol_util', df, return_type='dataframe')\n",
    "vif = pd.DataFrame()\n",
    "vif['VIF Factor'] = [variance_inflation_factor(X.values, i) for i in range(X.shape[1])]\n",
    "vif['features'] = X.columns\n",
    "vif.sort_values('VIF Factor', ascending=False)"
   ]
  },
  {
   "cell_type": "code",
   "execution_count": 37,
   "metadata": {},
   "outputs": [
    {
     "data": {
      "text/html": [
       "<div>\n",
       "<style>\n",
       "    .dataframe thead tr:only-child th {\n",
       "        text-align: right;\n",
       "    }\n",
       "\n",
       "    .dataframe thead th {\n",
       "        text-align: left;\n",
       "    }\n",
       "\n",
       "    .dataframe tbody tr th {\n",
       "        vertical-align: top;\n",
       "    }\n",
       "</style>\n",
       "<table border=\"1\" class=\"dataframe\">\n",
       "  <thead>\n",
       "    <tr style=\"text-align: right;\">\n",
       "      <th></th>\n",
       "      <th>VIF Factor</th>\n",
       "      <th>features</th>\n",
       "    </tr>\n",
       "  </thead>\n",
       "  <tbody>\n",
       "    <tr>\n",
       "      <th>0</th>\n",
       "      <td>40.902176</td>\n",
       "      <td>Intercept</td>\n",
       "    </tr>\n",
       "    <tr>\n",
       "      <th>4</th>\n",
       "      <td>12.501412</td>\n",
       "      <td>funded_amnt_inv</td>\n",
       "    </tr>\n",
       "    <tr>\n",
       "      <th>6</th>\n",
       "      <td>12.229325</td>\n",
       "      <td>loan_amnt</td>\n",
       "    </tr>\n",
       "    <tr>\n",
       "      <th>3</th>\n",
       "      <td>7.555053</td>\n",
       "      <td>total_rec_prncp</td>\n",
       "    </tr>\n",
       "    <tr>\n",
       "      <th>7</th>\n",
       "      <td>4.635452</td>\n",
       "      <td>total_rec_int</td>\n",
       "    </tr>\n",
       "    <tr>\n",
       "      <th>1</th>\n",
       "      <td>3.446793</td>\n",
       "      <td>recoveries</td>\n",
       "    </tr>\n",
       "    <tr>\n",
       "      <th>2</th>\n",
       "      <td>2.961369</td>\n",
       "      <td>collection_recovery_fee</td>\n",
       "    </tr>\n",
       "    <tr>\n",
       "      <th>10</th>\n",
       "      <td>2.092670</td>\n",
       "      <td>int_rate</td>\n",
       "    </tr>\n",
       "    <tr>\n",
       "      <th>5</th>\n",
       "      <td>1.898083</td>\n",
       "      <td>last_pymnt_amnt</td>\n",
       "    </tr>\n",
       "    <tr>\n",
       "      <th>8</th>\n",
       "      <td>1.785831</td>\n",
       "      <td>term</td>\n",
       "    </tr>\n",
       "    <tr>\n",
       "      <th>11</th>\n",
       "      <td>1.329115</td>\n",
       "      <td>revol_util</td>\n",
       "    </tr>\n",
       "    <tr>\n",
       "      <th>9</th>\n",
       "      <td>1.034838</td>\n",
       "      <td>total_rec_late_fee</td>\n",
       "    </tr>\n",
       "  </tbody>\n",
       "</table>\n",
       "</div>"
      ],
      "text/plain": [
       "    VIF Factor                 features\n",
       "0    40.902176                Intercept\n",
       "4    12.501412          funded_amnt_inv\n",
       "6    12.229325                loan_amnt\n",
       "3     7.555053          total_rec_prncp\n",
       "7     4.635452            total_rec_int\n",
       "1     3.446793               recoveries\n",
       "2     2.961369  collection_recovery_fee\n",
       "10    2.092670                 int_rate\n",
       "5     1.898083          last_pymnt_amnt\n",
       "8     1.785831                     term\n",
       "11    1.329115               revol_util\n",
       "9     1.034838       total_rec_late_fee"
      ]
     },
     "execution_count": 37,
     "metadata": {},
     "output_type": "execute_result"
    }
   ],
   "source": [
    "y, X = dmatrices('loan_status ~ recoveries + collection_recovery_fee + total_rec_prncp + funded_amnt_inv + last_pymnt_amnt + loan_amnt + total_rec_int + term + total_rec_late_fee + int_rate + revol_util', df, return_type='dataframe')\n",
    "vif = pd.DataFrame()\n",
    "vif['VIF Factor'] = [variance_inflation_factor(X.values, i) for i in range(X.shape[1])]\n",
    "vif['features'] = X.columns\n",
    "vif.sort_values('VIF Factor', ascending=False)"
   ]
  },
  {
   "cell_type": "code",
   "execution_count": 38,
   "metadata": {},
   "outputs": [
    {
     "data": {
      "text/html": [
       "<div>\n",
       "<style>\n",
       "    .dataframe thead tr:only-child th {\n",
       "        text-align: right;\n",
       "    }\n",
       "\n",
       "    .dataframe thead th {\n",
       "        text-align: left;\n",
       "    }\n",
       "\n",
       "    .dataframe tbody tr th {\n",
       "        vertical-align: top;\n",
       "    }\n",
       "</style>\n",
       "<table border=\"1\" class=\"dataframe\">\n",
       "  <thead>\n",
       "    <tr style=\"text-align: right;\">\n",
       "      <th></th>\n",
       "      <th>VIF Factor</th>\n",
       "      <th>features</th>\n",
       "    </tr>\n",
       "  </thead>\n",
       "  <tbody>\n",
       "    <tr>\n",
       "      <th>0</th>\n",
       "      <td>40.901464</td>\n",
       "      <td>Intercept</td>\n",
       "    </tr>\n",
       "    <tr>\n",
       "      <th>3</th>\n",
       "      <td>7.086020</td>\n",
       "      <td>total_rec_prncp</td>\n",
       "    </tr>\n",
       "    <tr>\n",
       "      <th>5</th>\n",
       "      <td>5.326415</td>\n",
       "      <td>loan_amnt</td>\n",
       "    </tr>\n",
       "    <tr>\n",
       "      <th>6</th>\n",
       "      <td>4.606321</td>\n",
       "      <td>total_rec_int</td>\n",
       "    </tr>\n",
       "    <tr>\n",
       "      <th>1</th>\n",
       "      <td>3.385161</td>\n",
       "      <td>recoveries</td>\n",
       "    </tr>\n",
       "    <tr>\n",
       "      <th>2</th>\n",
       "      <td>2.944512</td>\n",
       "      <td>collection_recovery_fee</td>\n",
       "    </tr>\n",
       "    <tr>\n",
       "      <th>9</th>\n",
       "      <td>2.092666</td>\n",
       "      <td>int_rate</td>\n",
       "    </tr>\n",
       "    <tr>\n",
       "      <th>4</th>\n",
       "      <td>1.898078</td>\n",
       "      <td>last_pymnt_amnt</td>\n",
       "    </tr>\n",
       "    <tr>\n",
       "      <th>7</th>\n",
       "      <td>1.785000</td>\n",
       "      <td>term</td>\n",
       "    </tr>\n",
       "    <tr>\n",
       "      <th>10</th>\n",
       "      <td>1.328530</td>\n",
       "      <td>revol_util</td>\n",
       "    </tr>\n",
       "    <tr>\n",
       "      <th>8</th>\n",
       "      <td>1.034661</td>\n",
       "      <td>total_rec_late_fee</td>\n",
       "    </tr>\n",
       "  </tbody>\n",
       "</table>\n",
       "</div>"
      ],
      "text/plain": [
       "    VIF Factor                 features\n",
       "0    40.901464                Intercept\n",
       "3     7.086020          total_rec_prncp\n",
       "5     5.326415                loan_amnt\n",
       "6     4.606321            total_rec_int\n",
       "1     3.385161               recoveries\n",
       "2     2.944512  collection_recovery_fee\n",
       "9     2.092666                 int_rate\n",
       "4     1.898078          last_pymnt_amnt\n",
       "7     1.785000                     term\n",
       "10    1.328530               revol_util\n",
       "8     1.034661       total_rec_late_fee"
      ]
     },
     "execution_count": 38,
     "metadata": {},
     "output_type": "execute_result"
    }
   ],
   "source": [
    "y, X = dmatrices('loan_status ~ recoveries + collection_recovery_fee + total_rec_prncp + last_pymnt_amnt + loan_amnt + total_rec_int + term + total_rec_late_fee + int_rate + revol_util', df, return_type='dataframe')\n",
    "vif = pd.DataFrame()\n",
    "vif['VIF Factor'] = [variance_inflation_factor(X.values, i) for i in range(X.shape[1])]\n",
    "vif['features'] = X.columns\n",
    "vif.sort_values('VIF Factor', ascending=False)"
   ]
  },
  {
   "cell_type": "code",
   "execution_count": 39,
   "metadata": {},
   "outputs": [
    {
     "data": {
      "text/html": [
       "<div>\n",
       "<style>\n",
       "    .dataframe thead tr:only-child th {\n",
       "        text-align: right;\n",
       "    }\n",
       "\n",
       "    .dataframe thead th {\n",
       "        text-align: left;\n",
       "    }\n",
       "\n",
       "    .dataframe tbody tr th {\n",
       "        vertical-align: top;\n",
       "    }\n",
       "</style>\n",
       "<table border=\"1\" class=\"dataframe\">\n",
       "  <thead>\n",
       "    <tr style=\"text-align: right;\">\n",
       "      <th></th>\n",
       "      <th>VIF Factor</th>\n",
       "      <th>features</th>\n",
       "    </tr>\n",
       "  </thead>\n",
       "  <tbody>\n",
       "    <tr>\n",
       "      <th>0</th>\n",
       "      <td>31.215247</td>\n",
       "      <td>Intercept</td>\n",
       "    </tr>\n",
       "    <tr>\n",
       "      <th>5</th>\n",
       "      <td>3.396997</td>\n",
       "      <td>total_rec_int</td>\n",
       "    </tr>\n",
       "    <tr>\n",
       "      <th>1</th>\n",
       "      <td>3.031724</td>\n",
       "      <td>recoveries</td>\n",
       "    </tr>\n",
       "    <tr>\n",
       "      <th>4</th>\n",
       "      <td>2.995397</td>\n",
       "      <td>loan_amnt</td>\n",
       "    </tr>\n",
       "    <tr>\n",
       "      <th>2</th>\n",
       "      <td>2.883735</td>\n",
       "      <td>collection_recovery_fee</td>\n",
       "    </tr>\n",
       "    <tr>\n",
       "      <th>8</th>\n",
       "      <td>1.947485</td>\n",
       "      <td>int_rate</td>\n",
       "    </tr>\n",
       "    <tr>\n",
       "      <th>6</th>\n",
       "      <td>1.584668</td>\n",
       "      <td>term</td>\n",
       "    </tr>\n",
       "    <tr>\n",
       "      <th>3</th>\n",
       "      <td>1.466769</td>\n",
       "      <td>last_pymnt_amnt</td>\n",
       "    </tr>\n",
       "    <tr>\n",
       "      <th>9</th>\n",
       "      <td>1.328504</td>\n",
       "      <td>revol_util</td>\n",
       "    </tr>\n",
       "    <tr>\n",
       "      <th>7</th>\n",
       "      <td>1.028356</td>\n",
       "      <td>total_rec_late_fee</td>\n",
       "    </tr>\n",
       "  </tbody>\n",
       "</table>\n",
       "</div>"
      ],
      "text/plain": [
       "   VIF Factor                 features\n",
       "0   31.215247                Intercept\n",
       "5    3.396997            total_rec_int\n",
       "1    3.031724               recoveries\n",
       "4    2.995397                loan_amnt\n",
       "2    2.883735  collection_recovery_fee\n",
       "8    1.947485                 int_rate\n",
       "6    1.584668                     term\n",
       "3    1.466769          last_pymnt_amnt\n",
       "9    1.328504               revol_util\n",
       "7    1.028356       total_rec_late_fee"
      ]
     },
     "execution_count": 39,
     "metadata": {},
     "output_type": "execute_result"
    }
   ],
   "source": [
    "y, X = dmatrices('loan_status ~ recoveries + collection_recovery_fee + last_pymnt_amnt + loan_amnt + total_rec_int + term + total_rec_late_fee + int_rate + revol_util', df, return_type='dataframe')\n",
    "vif = pd.DataFrame()\n",
    "vif['VIF Factor'] = [variance_inflation_factor(X.values, i) for i in range(X.shape[1])]\n",
    "vif['features'] = X.columns\n",
    "vif.sort_values('VIF Factor', ascending=False)"
   ]
  },
  {
   "cell_type": "code",
   "execution_count": 40,
   "metadata": {
    "collapsed": true
   },
   "outputs": [],
   "source": [
    "df_final = df[['loan_status', 'recoveries', 'collection_recovery_fee', 'last_pymnt_amnt', 'loan_amnt', 'total_rec_int', 'term','total_rec_late_fee', 'int_rate', 'revol_util']]"
   ]
  },
  {
   "cell_type": "code",
   "execution_count": 41,
   "metadata": {
    "collapsed": true
   },
   "outputs": [],
   "source": [
    "# Separating the dependent and independent variables\n",
    "\n",
    "X = df_final.iloc[:, 1:]\n",
    "y = df_final.iloc[:, 0]"
   ]
  },
  {
   "cell_type": "code",
   "execution_count": 42,
   "metadata": {
    "collapsed": true
   },
   "outputs": [],
   "source": [
    "from sklearn.preprocessing import MinMaxScaler\n",
    "scaler = MinMaxScaler(feature_range=(0,1))\n",
    "arr_scaler = scaler.fit_transform(X)\n",
    "scaled_X = pd.DataFrame(arr_scaler, columns=X.columns)"
   ]
  },
  {
   "cell_type": "code",
   "execution_count": 43,
   "metadata": {
    "collapsed": true
   },
   "outputs": [],
   "source": [
    "# Splitting the dataset into the Training set and Test set\n",
    "\n",
    "from sklearn.cross_validation import train_test_split\n",
    "X_train, X_test, y_train, y_test = train_test_split(scaled_X, y, test_size = 0.3, random_state = 0)"
   ]
  },
  {
   "cell_type": "code",
   "execution_count": 44,
   "metadata": {},
   "outputs": [
    {
     "data": {
      "text/plain": [
       "LogisticRegression(C=1.0, class_weight=None, dual=False, fit_intercept=True,\n",
       "          intercept_scaling=1, max_iter=100, multi_class='ovr', n_jobs=1,\n",
       "          penalty='l2', random_state=None, solver='liblinear', tol=0.0001,\n",
       "          verbose=0, warm_start=False)"
      ]
     },
     "execution_count": 44,
     "metadata": {},
     "output_type": "execute_result"
    }
   ],
   "source": [
    "# Logistic Regression\n",
    "\n",
    "lrn = LogisticRegression()\n",
    "\n",
    "# fit the model\n",
    "\n",
    "lrn.fit(X_train, y_train)\n",
    "classes = lrn.predict(X_test)"
   ]
  },
  {
   "cell_type": "code",
   "execution_count": 45,
   "metadata": {},
   "outputs": [
    {
     "name": "stdout",
     "output_type": "stream",
     "text": [
      "11370\n",
      "Positive Cases in Test Data: 1596\n",
      "Negative Cases in Test Data: 9774\n"
     ]
    }
   ],
   "source": [
    "print(classes.size)\n",
    "print('Positive Cases in Test Data:', y_test[y_test == 1].shape[0])\n",
    "print('Negative Cases in Test Data:', y_test[y_test == 0].shape[0])"
   ]
  },
  {
   "cell_type": "code",
   "execution_count": 46,
   "metadata": {},
   "outputs": [
    {
     "name": "stdout",
     "output_type": "stream",
     "text": [
      "Accuracy Score - Logistic Regression\n",
      "0.901143359719\n",
      "\n",
      "Precision/Recall Metrics\n",
      "             precision    recall  f1-score   support\n",
      "\n",
      "          0       0.90      0.99      0.95      9774\n",
      "          1       0.86      0.36      0.50      1596\n",
      "\n",
      "avg / total       0.90      0.90      0.88     11370\n",
      "\n",
      "\n",
      "AUC\n",
      "0.672771746739\n"
     ]
    }
   ],
   "source": [
    "print('Accuracy Score - Logistic Regression')\n",
    "print(metrics.accuracy_score(y_test, classes))\n",
    "print()\n",
    "print('Precision/Recall Metrics')\n",
    "print(metrics.classification_report(y_test,classes))\n",
    "print()\n",
    "auc_lrn = metrics.roc_auc_score(y_test,classes)\n",
    "print('AUC')\n",
    "print(auc_lrn)\n",
    "\n",
    "lrn_accuracy = accuracy_score(y_test, classes)\n",
    "lrn_precision = precision_score(y_test,classes)\n",
    "lrn_recall = recall_score(y_test,classes)"
   ]
  },
  {
   "cell_type": "code",
   "execution_count": 47,
   "metadata": {},
   "outputs": [
    {
     "data": {
      "image/png": "[encoded data removed]",
      "text/plain": [
       "<matplotlib.figure.Figure at 0x213b39462b0>"
      ]
     },
     "metadata": {},
     "output_type": "display_data"
    }
   ],
   "source": [
    "# ROC Chart\n",
    "fpr, tpr, th= roc_curve(y_test, classes)\n",
    "roc_auc = metrics.auc(fpr,tpr)\n",
    "plt.title('ROCR - Logistic Regression')\n",
    "plt.plot(fpr,tpr, 'b', label='AUC = %0.2f'% roc_auc)\n",
    "plt.legend(loc='lower right')\n",
    "plt.plot([0,1],[0,1],'r--')\n",
    "plt.xlim([0,1])\n",
    "plt.ylim([0,1])\n",
    "plt.ylabel('True Positive Rate')\n",
    "plt.xlabel('False Positive Rate')\n",
    "plt.show();"
   ]
  },
  {
   "cell_type": "code",
   "execution_count": 48,
   "metadata": {},
   "outputs": [
    {
     "name": "stdout",
     "output_type": "stream",
     "text": [
      "\n",
      "   Confusion Matrix - Logistic Regression\n"
     ]
    },
    {
     "data": {
      "image/png": "[encoded data removed]",
      "text/plain": [
       "<matplotlib.figure.Figure at 0x213bca45a20>"
      ]
     },
     "metadata": {},
     "output_type": "display_data"
    }
   ],
   "source": [
    "print()\n",
    "print ('   Confusion Matrix - Logistic Regression')\n",
    "cf =  metrics.confusion_matrix(y_test,classes)\n",
    "lbl1 = [\"Predicted 0\",\"Predicted 1\"]\n",
    "lbl2 = [\"True 0\",\"True 1\"]\n",
    "sns.heatmap(cf, annot=True, fmt=\"d\", xticklabels=lbl1, yticklabels=lbl2, cmap=\"YlGnBu\")\n",
    "plt.show();"
   ]
  },
  {
   "cell_type": "code",
   "execution_count": 49,
   "metadata": {},
   "outputs": [
    {
     "data": {
      "text/plain": [
       "RandomForestClassifier(bootstrap=True, class_weight=None, criterion='gini',\n",
       "            max_depth=None, max_features='auto', max_leaf_nodes=None,\n",
       "            min_impurity_decrease=0.0, min_impurity_split=None,\n",
       "            min_samples_leaf=1, min_samples_split=2,\n",
       "            min_weight_fraction_leaf=0.0, n_estimators=100, n_jobs=1,\n",
       "            oob_score=False, random_state=None, verbose=0,\n",
       "            warm_start=False)"
      ]
     },
     "execution_count": 49,
     "metadata": {},
     "output_type": "execute_result"
    }
   ],
   "source": [
    "# Random Forest\n",
    "\n",
    "random_forest = RandomForestClassifier(n_estimators=100)\n",
    "\n",
    "# fit the model\n",
    "\n",
    "random_forest.fit(X_train, y_train)\n",
    "classes = random_forest.predict(X_test)"
   ]
  },
  {
   "cell_type": "code",
   "execution_count": 50,
   "metadata": {},
   "outputs": [
    {
     "name": "stdout",
     "output_type": "stream",
     "text": [
      "11370\n",
      "Positive Cases in Test Data: 1596\n",
      "Negative Cases in Test Data: 9774\n"
     ]
    }
   ],
   "source": [
    "print(classes.size)\n",
    "print('Positive Cases in Test Data:', y_test[y_test == 1].shape[0])\n",
    "print('Negative Cases in Test Data:', y_test[y_test == 0].shape[0])"
   ]
  },
  {
   "cell_type": "code",
   "execution_count": 51,
   "metadata": {},
   "outputs": [
    {
     "name": "stdout",
     "output_type": "stream",
     "text": [
      "Accuracy Score - Random Forest\n",
      "0.998680738786\n",
      "\n",
      "Precision/Recall Metrics\n",
      "             precision    recall  f1-score   support\n",
      "\n",
      "          0       1.00      1.00      1.00      9774\n",
      "          1       1.00      0.99      1.00      1596\n",
      "\n",
      "avg / total       1.00      1.00      1.00     11370\n",
      "\n",
      "\n",
      "AUC\n",
      "0.99530075188\n"
     ]
    }
   ],
   "source": [
    "print('Accuracy Score - Random Forest')\n",
    "print(metrics.accuracy_score(y_test, classes))\n",
    "print()\n",
    "print('Precision/Recall Metrics')\n",
    "print(metrics.classification_report(y_test,classes))\n",
    "print()\n",
    "auc_rf = metrics.roc_auc_score(y_test,classes)\n",
    "print('AUC')\n",
    "print(auc_rf)\n",
    "\n",
    "rf_accuracy = accuracy_score(y_test, classes)\n",
    "rf_precision = precision_score(y_test,classes)\n",
    "rf_recall = recall_score(y_test,classes)"
   ]
  },
  {
   "cell_type": "code",
   "execution_count": 52,
   "metadata": {},
   "outputs": [
    {
     "data": {
      "image/png": "[encoded data removed]",
      "text/plain": [
       "<matplotlib.figure.Figure at 0x213bcca6fd0>"
      ]
     },
     "metadata": {},
     "output_type": "display_data"
    }
   ],
   "source": [
    "# ROC Chart\n",
    "fpr, tpr, th= roc_curve(y_test, classes)\n",
    "roc_auc = metrics.auc(fpr,tpr)\n",
    "plt.title('ROCR - Random Forest')\n",
    "plt.plot(fpr,tpr, 'b', label='AUC = %0.2f'% roc_auc)\n",
    "plt.legend(loc='lower right')\n",
    "plt.plot([0,1],[0,1],'r--')\n",
    "plt.xlim([0,1])\n",
    "plt.ylim([0,1])\n",
    "plt.ylabel('True Positive Rate')\n",
    "plt.xlabel('False Positive Rate')\n",
    "plt.show();"
   ]
  },
  {
   "cell_type": "code",
   "execution_count": 53,
   "metadata": {},
   "outputs": [
    {
     "name": "stdout",
     "output_type": "stream",
     "text": [
      "\n",
      "     Confusion Matrix - Random Forest\n"
     ]
    },
    {
     "data": {
      "image/png": "[encoded data removed]",
      "text/plain": [
       "<matplotlib.figure.Figure at 0x213bca4ab70>"
      ]
     },
     "metadata": {},
     "output_type": "display_data"
    }
   ],
   "source": [
    "print()\n",
    "print ('     Confusion Matrix - Random Forest')\n",
    "cf =  metrics.confusion_matrix(y_test,classes)\n",
    "lbl1 = [\"Predicted 0\",\"Predicted 1\"]\n",
    "lbl2 = [\"True 0\",\"True 1\"]\n",
    "sns.heatmap(cf, annot=True, fmt=\"d\", xticklabels=lbl1, yticklabels=lbl2, cmap=\"YlGnBu\")\n",
    "plt.show();"
   ]
  },
  {
   "cell_type": "code",
   "execution_count": 54,
   "metadata": {},
   "outputs": [
    {
     "data": {
      "text/plain": [
       "SVC(C=1.0, cache_size=200, class_weight=None, coef0=0.0,\n",
       "  decision_function_shape='ovr', degree=3, gamma='auto', kernel='rbf',\n",
       "  max_iter=-1, probability=False, random_state=None, shrinking=True,\n",
       "  tol=0.001, verbose=False)"
      ]
     },
     "execution_count": 54,
     "metadata": {},
     "output_type": "execute_result"
    }
   ],
   "source": [
    "# Support Vector Machines\n",
    "\n",
    "svc = SVC()\n",
    "\n",
    "# fit the model\n",
    "\n",
    "svc.fit(X_train, y_train)\n",
    "classes = svc.predict(X_test)"
   ]
  },
  {
   "cell_type": "code",
   "execution_count": 55,
   "metadata": {},
   "outputs": [
    {
     "name": "stdout",
     "output_type": "stream",
     "text": [
      "11370\n",
      "Positive Cases in Test Data: 1596\n",
      "Negative Cases in Test Data: 9774\n"
     ]
    }
   ],
   "source": [
    "print(classes.size)\n",
    "print('Positive Cases in Test Data:', y_test[y_test == 1].shape[0])\n",
    "print('Negative Cases in Test Data:', y_test[y_test == 0].shape[0])"
   ]
  },
  {
   "cell_type": "code",
   "execution_count": 56,
   "metadata": {},
   "outputs": [
    {
     "name": "stdout",
     "output_type": "stream",
     "text": [
      "Accuracy Score - SVC\n",
      "0.889621811785\n",
      "\n",
      "Precision/Recall Metrics\n",
      "             precision    recall  f1-score   support\n",
      "\n",
      "          0       0.89      1.00      0.94      9774\n",
      "          1       0.89      0.24      0.38      1596\n",
      "\n",
      "avg / total       0.89      0.89      0.86     11370\n",
      "\n",
      "\n",
      "AUC\n",
      "0.619411673752\n"
     ]
    }
   ],
   "source": [
    "print('Accuracy Score - SVC')\n",
    "print(metrics.accuracy_score(y_test, classes))\n",
    "print()\n",
    "print('Precision/Recall Metrics')\n",
    "print(metrics.classification_report(y_test,classes))\n",
    "print()\n",
    "auc_svc = metrics.roc_auc_score(y_test,classes)\n",
    "print('AUC')\n",
    "print(auc_svc)\n",
    "\n",
    "svc_accuracy = accuracy_score(y_test, classes)\n",
    "svc_precision = precision_score(y_test,classes)\n",
    "svc_recall = recall_score(y_test,classes)"
   ]
  },
  {
   "cell_type": "code",
   "execution_count": 57,
   "metadata": {},
   "outputs": [
    {
     "data": {
      "image/png": "[encoded data removed]",
      "text/plain": [
       "<matplotlib.figure.Figure at 0x213bce1ca90>"
      ]
     },
     "metadata": {},
     "output_type": "display_data"
    }
   ],
   "source": [
    "# ROC Chart\n",
    "fpr, tpr, th= roc_curve(y_test, classes)\n",
    "roc_auc = metrics.auc(fpr,tpr)\n",
    "plt.title('ROCR - SVC')\n",
    "plt.plot(fpr,tpr, 'b', label='AUC = %0.2f'% roc_auc)\n",
    "plt.legend(loc='lower right')\n",
    "plt.plot([0,1],[0,1],'r--')\n",
    "plt.xlim([0,1])\n",
    "plt.ylim([0,1])\n",
    "plt.ylabel('True Positive Rate')\n",
    "plt.xlabel('False Positive Rate')\n",
    "plt.show();"
   ]
  },
  {
   "cell_type": "code",
   "execution_count": 58,
   "metadata": {},
   "outputs": [
    {
     "name": "stdout",
     "output_type": "stream",
     "text": [
      "\n",
      "      Confusion Matrix - SVC\n"
     ]
    },
    {
     "data": {
      "image/png": "[encoded data removed]",
      "text/plain": [
       "<matplotlib.figure.Figure at 0x213bce13be0>"
      ]
     },
     "metadata": {},
     "output_type": "display_data"
    }
   ],
   "source": [
    "print()\n",
    "print ('      Confusion Matrix - SVC')\n",
    "cf =  metrics.confusion_matrix(y_test,classes)\n",
    "lbl1 = [\"Predicted 0\",\"Predicted 1\"]\n",
    "lbl2 = [\"True 0\",\"True 1\"]\n",
    "sns.heatmap(cf, annot=True, fmt=\"d\", xticklabels=lbl1, yticklabels=lbl2, cmap=\"YlGnBu\")\n",
    "plt.show();"
   ]
  },
  {
   "cell_type": "code",
   "execution_count": 59,
   "metadata": {},
   "outputs": [
    {
     "data": {
      "text/plain": [
       "KNeighborsClassifier(algorithm='auto', leaf_size=30, metric='minkowski',\n",
       "           metric_params=None, n_jobs=1, n_neighbors=3, p=2,\n",
       "           weights='uniform')"
      ]
     },
     "execution_count": 59,
     "metadata": {},
     "output_type": "execute_result"
    }
   ],
   "source": [
    "# K-NN\n",
    "\n",
    "knn = KNeighborsClassifier(n_neighbors = 3)\n",
    "\n",
    "# fit the model\n",
    "\n",
    "knn.fit(X_train, y_train)\n",
    "classes = knn.predict(X_test)"
   ]
  },
  {
   "cell_type": "code",
   "execution_count": 60,
   "metadata": {
    "scrolled": true
   },
   "outputs": [
    {
     "name": "stdout",
     "output_type": "stream",
     "text": [
      "11370\n",
      "Positive Cases in Test Data: 1596\n",
      "Negative Cases in Test Data: 9774\n"
     ]
    }
   ],
   "source": [
    "print(classes.size)\n",
    "print('Positive Cases in Test Data:', y_test[y_test == 1].shape[0])\n",
    "print('Negative Cases in Test Data:', y_test[y_test == 0].shape[0])"
   ]
  },
  {
   "cell_type": "code",
   "execution_count": 61,
   "metadata": {},
   "outputs": [
    {
     "name": "stdout",
     "output_type": "stream",
     "text": [
      "Accuracy Score - KNN\n",
      "0.8890941073\n",
      "\n",
      "Precision/Recall Metrics\n",
      "             precision    recall  f1-score   support\n",
      "\n",
      "          0       0.91      0.96      0.94      9774\n",
      "          1       0.66      0.42      0.52      1596\n",
      "\n",
      "avg / total       0.88      0.89      0.88     11370\n",
      "\n",
      "\n",
      "AUC\n",
      "0.694859462961\n"
     ]
    }
   ],
   "source": [
    "print('Accuracy Score - KNN')\n",
    "print(metrics.accuracy_score(y_test, classes))\n",
    "print()\n",
    "print('Precision/Recall Metrics')\n",
    "print(metrics.classification_report(y_test,classes))\n",
    "print()\n",
    "auc_knn = metrics.roc_auc_score(y_test,classes)\n",
    "print('AUC')\n",
    "print(auc_knn)\n",
    "\n",
    "knn_accuracy = accuracy_score(y_test, classes)\n",
    "knn_precision = precision_score(y_test,classes)\n",
    "knn_recall = recall_score(y_test,classes)"
   ]
  },
  {
   "cell_type": "code",
   "execution_count": 62,
   "metadata": {},
   "outputs": [
    {
     "data": {
      "image/png": "[encoded data removed]",
      "text/plain": [
       "<matplotlib.figure.Figure at 0x213bf5ebac8>"
      ]
     },
     "metadata": {},
     "output_type": "display_data"
    }
   ],
   "source": [
    "# ROC Chart\n",
    "fpr, tpr, th= roc_curve(y_test, classes)\n",
    "roc_auc = metrics.auc(fpr,tpr)\n",
    "plt.title('ROCR - KNN')\n",
    "plt.plot(fpr,tpr, 'b', label='AUC = %0.2f'% roc_auc)\n",
    "plt.legend(loc='lower right')\n",
    "plt.plot([0,1],[0,1],'r--')\n",
    "plt.xlim([0,1])\n",
    "plt.ylim([0,1])\n",
    "plt.ylabel('True Positive Rate')\n",
    "plt.xlabel('False Positive Rate')\n",
    "plt.show();"
   ]
  },
  {
   "cell_type": "code",
   "execution_count": 63,
   "metadata": {},
   "outputs": [
    {
     "name": "stdout",
     "output_type": "stream",
     "text": [
      "      Confusion Matrix - KNN\n"
     ]
    },
    {
     "data": {
      "image/png": "[encoded data removed]",
      "text/plain": [
       "<matplotlib.figure.Figure at 0x213bcec2c88>"
      ]
     },
     "metadata": {},
     "output_type": "display_data"
    }
   ],
   "source": [
    "print ('      Confusion Matrix - KNN')\n",
    "cf =  metrics.confusion_matrix(y_test,classes)\n",
    "lbl1 = [\"Predicted 0\",\"Predicted 1\"]\n",
    "lbl2 = [\"True 0\",\"True 1\"]\n",
    "sns.heatmap(cf, annot=True, fmt=\"d\", xticklabels=lbl1, yticklabels=lbl2, cmap=\"YlGnBu\")\n",
    "plt.show();"
   ]
  },
  {
   "cell_type": "code",
   "execution_count": 64,
   "metadata": {},
   "outputs": [
    {
     "data": {
      "text/plain": [
       "GaussianNB(priors=None)"
      ]
     },
     "execution_count": 64,
     "metadata": {},
     "output_type": "execute_result"
    }
   ],
   "source": [
    "# Gaussian Naive Bayes\n",
    "\n",
    "gnb = GaussianNB()\n",
    "\n",
    "# fit the model\n",
    "\n",
    "gnb.fit(X_train, y_train)\n",
    "classes = gnb.predict(X_test)"
   ]
  },
  {
   "cell_type": "code",
   "execution_count": 65,
   "metadata": {
    "scrolled": true
   },
   "outputs": [
    {
     "name": "stdout",
     "output_type": "stream",
     "text": [
      "11370\n",
      "Positive Cases in Test Data: 1596\n",
      "Negative Cases in Test Data: 9774\n"
     ]
    }
   ],
   "source": [
    "print(classes.size)\n",
    "print('Positive Cases in Test Data:', y_test[y_test == 1].shape[0])\n",
    "print('Negative Cases in Test Data:', y_test[y_test == 0].shape[0])"
   ]
  },
  {
   "cell_type": "code",
   "execution_count": 66,
   "metadata": {},
   "outputs": [
    {
     "name": "stdout",
     "output_type": "stream",
     "text": [
      "Accuracy Score - Gaussian Naive Bayes\n",
      "0.979331574318\n",
      "\n",
      "Precision/Recall Metrics\n",
      "             precision    recall  f1-score   support\n",
      "\n",
      "          0       0.98      1.00      0.99      9774\n",
      "          1       0.97      0.88      0.92      1596\n",
      "\n",
      "avg / total       0.98      0.98      0.98     11370\n",
      "\n",
      "\n",
      "AUC\n",
      "0.937649910534\n"
     ]
    }
   ],
   "source": [
    "print('Accuracy Score - Gaussian Naive Bayes')\n",
    "print(metrics.accuracy_score(y_test, classes))\n",
    "print()\n",
    "print('Precision/Recall Metrics')\n",
    "print(metrics.classification_report(y_test,classes))\n",
    "print()\n",
    "auc_gnb = metrics.roc_auc_score(y_test,classes)\n",
    "print('AUC')\n",
    "print(auc_gnb)\n",
    "\n",
    "gnb_accuracy = accuracy_score(y_test, classes)\n",
    "gnb_precision = precision_score(y_test,classes)\n",
    "gnb_recall = recall_score(y_test,classes)"
   ]
  },
  {
   "cell_type": "code",
   "execution_count": 67,
   "metadata": {},
   "outputs": [
    {
     "data": {
      "image/png": "[encoded data removed]",
      "text/plain": [
       "<matplotlib.figure.Figure at 0x213bf66da58>"
      ]
     },
     "metadata": {},
     "output_type": "display_data"
    }
   ],
   "source": [
    "# ROC Chart\n",
    "fpr, tpr, th= roc_curve(y_test, classes)\n",
    "roc_auc = metrics.auc(fpr,tpr)\n",
    "plt.title('ROCR - Gaussian Naive Bayes')\n",
    "plt.plot(fpr,tpr, 'b', label='AUC = %0.2f'% roc_auc)\n",
    "plt.legend(loc='lower right')\n",
    "plt.plot([0,1],[0,1],'r--')\n",
    "plt.xlim([0,1])\n",
    "plt.ylim([0,1])\n",
    "plt.ylabel('True Positive Rate')\n",
    "plt.xlabel('False Positive Rate')\n",
    "plt.show();"
   ]
  },
  {
   "cell_type": "code",
   "execution_count": 68,
   "metadata": {},
   "outputs": [
    {
     "name": "stdout",
     "output_type": "stream",
     "text": [
      "   Confusion Matrix - Gaussian Naive Bayes\n"
     ]
    },
    {
     "data": {
      "image/png": "[encoded data removed]",
      "text/plain": [
       "<matplotlib.figure.Figure at 0x213bf66d630>"
      ]
     },
     "metadata": {},
     "output_type": "display_data"
    }
   ],
   "source": [
    "print ('   Confusion Matrix - Gaussian Naive Bayes')\n",
    "cf =  metrics.confusion_matrix(y_test,classes)\n",
    "lbl1 = [\"Predicted 0\",\"Predicted 1\"]\n",
    "lbl2 = [\"True 0\",\"True 1\"]\n",
    "sns.heatmap(cf, annot=True, fmt=\"d\", xticklabels=lbl1, yticklabels=lbl2, cmap=\"YlGnBu\")\n",
    "plt.show();"
   ]
  },
  {
   "cell_type": "code",
   "execution_count": 69,
   "metadata": {},
   "outputs": [
    {
     "data": {
      "text/plain": [
       "LinearSVC(C=1.0, class_weight=None, dual=True, fit_intercept=True,\n",
       "     intercept_scaling=1, loss='squared_hinge', max_iter=1000,\n",
       "     multi_class='ovr', penalty='l2', random_state=None, tol=0.0001,\n",
       "     verbose=0)"
      ]
     },
     "execution_count": 69,
     "metadata": {},
     "output_type": "execute_result"
    }
   ],
   "source": [
    "# Linear SVC\n",
    "\n",
    "linear_svc = LinearSVC()\n",
    "\n",
    "# fit the model\n",
    "\n",
    "linear_svc.fit(X_train, y_train)\n",
    "classes = linear_svc.predict(X_test)"
   ]
  },
  {
   "cell_type": "code",
   "execution_count": 70,
   "metadata": {
    "scrolled": true
   },
   "outputs": [
    {
     "name": "stdout",
     "output_type": "stream",
     "text": [
      "11370\n",
      "Positive Cases in Test Data: 1596\n",
      "Negative Cases in Test Data: 9774\n"
     ]
    }
   ],
   "source": [
    "print(classes.size)\n",
    "print('Positive Cases in Test Data:', y_test[y_test == 1].shape[0])\n",
    "print('Negative Cases in Test Data:', y_test[y_test == 0].shape[0])"
   ]
  },
  {
   "cell_type": "code",
   "execution_count": 71,
   "metadata": {},
   "outputs": [
    {
     "name": "stdout",
     "output_type": "stream",
     "text": [
      "Accuracy Score - Linear SVC\n",
      "0.920316622691\n",
      "\n",
      "Precision/Recall Metrics\n",
      "             precision    recall  f1-score   support\n",
      "\n",
      "          0       0.92      0.99      0.96      9774\n",
      "          1       0.91      0.48      0.63      1596\n",
      "\n",
      "avg / total       0.92      0.92      0.91     11370\n",
      "\n",
      "\n",
      "AUC\n",
      "0.735562817418\n"
     ]
    }
   ],
   "source": [
    "print('Accuracy Score - Linear SVC')\n",
    "print(metrics.accuracy_score(y_test, classes))\n",
    "print()\n",
    "print('Precision/Recall Metrics')\n",
    "print(metrics.classification_report(y_test,classes))\n",
    "print()\n",
    "auc_lsvc = metrics.roc_auc_score(y_test,classes)\n",
    "print('AUC')\n",
    "print(auc_lsvc)\n",
    "\n",
    "lsvc_accuracy = accuracy_score(y_test, classes)\n",
    "lsvc_precision = precision_score(y_test,classes)\n",
    "lsvc_recall = recall_score(y_test,classes)"
   ]
  },
  {
   "cell_type": "code",
   "execution_count": 72,
   "metadata": {},
   "outputs": [
    {
     "data": {
      "image/png": "[encoded data removed]",
      "text/plain": [
       "<matplotlib.figure.Figure at 0x213bf6162b0>"
      ]
     },
     "metadata": {},
     "output_type": "display_data"
    }
   ],
   "source": [
    "# ROC Chart\n",
    "fpr, tpr, th= roc_curve(y_test, classes)\n",
    "roc_auc = metrics.auc(fpr,tpr)\n",
    "plt.title('ROCR - Linear SVC')\n",
    "plt.plot(fpr,tpr, 'b', label='AUC = %0.2f'% roc_auc)\n",
    "plt.legend(loc='lower right')\n",
    "plt.plot([0,1],[0,1],'r--')\n",
    "plt.xlim([0,1])\n",
    "plt.ylim([0,1])\n",
    "plt.ylabel('True Positive Rate')\n",
    "plt.xlabel('False Positive Rate')\n",
    "plt.show();"
   ]
  },
  {
   "cell_type": "code",
   "execution_count": 73,
   "metadata": {},
   "outputs": [
    {
     "name": "stdout",
     "output_type": "stream",
     "text": [
      "     Confusion Matrix - Linear SVC\n"
     ]
    },
    {
     "data": {
      "image/png": "[encoded data removed]",
      "text/plain": [
       "<matplotlib.figure.Figure at 0x213bca4a3c8>"
      ]
     },
     "metadata": {},
     "output_type": "display_data"
    }
   ],
   "source": [
    "print ('     Confusion Matrix - Linear SVC')\n",
    "cf =  metrics.confusion_matrix(y_test,classes)\n",
    "lbl1 = [\"Predicted 0\",\"Predicted 1\"]\n",
    "lbl2 = [\"True 0\",\"True 1\"]\n",
    "sns.heatmap(cf, annot=True, fmt=\"d\", xticklabels=lbl1, yticklabels=lbl2, cmap=\"YlGnBu\")\n",
    "plt.show();"
   ]
  },
  {
   "cell_type": "code",
   "execution_count": 74,
   "metadata": {},
   "outputs": [
    {
     "data": {
      "text/plain": [
       "DecisionTreeClassifier(class_weight=None, criterion='gini', max_depth=None,\n",
       "            max_features=None, max_leaf_nodes=None,\n",
       "            min_impurity_decrease=0.0, min_impurity_split=None,\n",
       "            min_samples_leaf=1, min_samples_split=2,\n",
       "            min_weight_fraction_leaf=0.0, presort=False, random_state=None,\n",
       "            splitter='best')"
      ]
     },
     "execution_count": 74,
     "metadata": {},
     "output_type": "execute_result"
    }
   ],
   "source": [
    "# Decision Tree\n",
    "\n",
    "dtree = DecisionTreeClassifier()\n",
    "\n",
    "# fit the model\n",
    "\n",
    "dtree.fit(X_train, y_train)\n",
    "classes = dtree.predict(X_test)"
   ]
  },
  {
   "cell_type": "code",
   "execution_count": 75,
   "metadata": {
    "scrolled": true
   },
   "outputs": [
    {
     "name": "stdout",
     "output_type": "stream",
     "text": [
      "11370\n",
      "Positive Cases in Test Data: 1596\n",
      "Negative Cases in Test Data: 9774\n"
     ]
    }
   ],
   "source": [
    "print(classes.size)\n",
    "print('Positive Cases in Test Data:', y_test[y_test == 1].shape[0])\n",
    "print('Negative Cases in Test Data:', y_test[y_test == 0].shape[0])"
   ]
  },
  {
   "cell_type": "code",
   "execution_count": 76,
   "metadata": {},
   "outputs": [
    {
     "name": "stdout",
     "output_type": "stream",
     "text": [
      "Accuracy Score - Decision Tree\n",
      "0.997625329815\n",
      "\n",
      "Precision/Recall Metrics\n",
      "             precision    recall  f1-score   support\n",
      "\n",
      "          0       1.00      1.00      1.00      9774\n",
      "          1       0.99      0.99      0.99      1596\n",
      "\n",
      "avg / total       1.00      1.00      1.00     11370\n",
      "\n",
      "\n",
      "AUC\n",
      "0.994949005417\n"
     ]
    }
   ],
   "source": [
    "print('Accuracy Score - Decision Tree')\n",
    "print(metrics.accuracy_score(y_test, classes))\n",
    "print()\n",
    "print('Precision/Recall Metrics')\n",
    "print(metrics.classification_report(y_test,classes))\n",
    "print()\n",
    "auc_dtree = metrics.roc_auc_score(y_test,classes)\n",
    "print('AUC')\n",
    "print(auc_dtree)\n",
    "\n",
    "dtree_accuracy = accuracy_score(y_test, classes)\n",
    "dtree_precision = precision_score(y_test,classes)\n",
    "dtree_recall = recall_score(y_test,classes)"
   ]
  },
  {
   "cell_type": "code",
   "execution_count": 77,
   "metadata": {},
   "outputs": [
    {
     "data": {
      "image/png": "[encoded data removed]",
      "text/plain": [
       "<matplotlib.figure.Figure at 0x213c05570b8>"
      ]
     },
     "metadata": {},
     "output_type": "display_data"
    }
   ],
   "source": [
    "# ROC Chart\n",
    "fpr, tpr, th= roc_curve(y_test, classes)\n",
    "roc_auc = metrics.auc(fpr,tpr)\n",
    "plt.title('ROCR - Decision Tree')\n",
    "plt.plot(fpr,tpr, 'b', label='AUC = %0.2f'% roc_auc)\n",
    "plt.legend(loc='lower right')\n",
    "plt.plot([0,1],[0,1],'r--')\n",
    "plt.xlim([0,1])\n",
    "plt.ylim([0,1])\n",
    "plt.ylabel('True Positive Rate')\n",
    "plt.xlabel('False Positive Rate')\n",
    "plt.show();"
   ]
  },
  {
   "cell_type": "code",
   "execution_count": 78,
   "metadata": {},
   "outputs": [
    {
     "name": "stdout",
     "output_type": "stream",
     "text": [
      "     Confusion Matrix - Decision Tree\n"
     ]
    },
    {
     "data": {
      "image/png": "[encoded data removed]",
      "text/plain": [
       "<matplotlib.figure.Figure at 0x213c0557a20>"
      ]
     },
     "metadata": {},
     "output_type": "display_data"
    }
   ],
   "source": [
    "print ('     Confusion Matrix - Decision Tree')\n",
    "cf =  metrics.confusion_matrix(y_test,classes)\n",
    "lbl1 = [\"Predicted 0\",\"Predicted 1\"]\n",
    "lbl2 = [\"True 0\",\"True 1\"]\n",
    "sns.heatmap(cf, annot=True, fmt=\"d\", xticklabels=lbl1, yticklabels=lbl2, cmap=\"YlGnBu\")\n",
    "plt.show();"
   ]
  },
  {
   "cell_type": "code",
   "execution_count": 79,
   "metadata": {
    "collapsed": true
   },
   "outputs": [],
   "source": [
    "# import libraries for Deep Learning\n",
    "\n",
    "from keras.models import Sequential\n",
    "from keras.layers import Dense, Activation, Embedding, LSTM, Dropout, advanced_activations\n",
    "from keras.callbacks import ModelCheckpoint, TensorBoard\n",
    "import numpy as np\n",
    "import pandas as pd\n",
    "from sklearn.cross_validation import train_test_split\n",
    "import matplotlib.pyplot as plt\n",
    "from sklearn.utils import shuffle\n",
    "from sklearn.metrics import confusion_matrix, average_precision_score, recall_score\n",
    "import seaborn as sns\n",
    "import matplotlib.gridspec as gridspec\n",
    "from sklearn.preprocessing import StandardScaler\n",
    "from sklearn.manifold import TSNE\n",
    "get_ipython().magic('matplotlib inline')\n",
    "# fix random seed for reproducibility\n",
    "seed = 7\n",
    "np.random.seed(seed)"
   ]
  },
  {
   "cell_type": "code",
   "execution_count": 80,
   "metadata": {
    "collapsed": true
   },
   "outputs": [],
   "source": [
    "# Dataset for Deep Learning Model\n",
    "\n",
    "df_dl = df_final"
   ]
  },
  {
   "cell_type": "code",
   "execution_count": 81,
   "metadata": {
    "collapsed": true
   },
   "outputs": [],
   "source": [
    "# Separating the dependent and independent variables\n",
    "\n",
    "X = df_dl.iloc[:, 1:]\n",
    "y = df_dl.iloc[:, 0]"
   ]
  },
  {
   "cell_type": "code",
   "execution_count": 82,
   "metadata": {
    "collapsed": true
   },
   "outputs": [],
   "source": [
    "from sklearn.preprocessing import MinMaxScaler\n",
    "scaler = MinMaxScaler(feature_range=(0,1))\n",
    "arr_scaler_X = scaler.fit_transform(X)"
   ]
  },
  {
   "cell_type": "code",
   "execution_count": 83,
   "metadata": {
    "collapsed": true
   },
   "outputs": [],
   "source": [
    "# Splitting the dataset into the Training set and Test set\n",
    "\n",
    "from sklearn.cross_validation import train_test_split\n",
    "X_train, X_test, y_train, y_test = train_test_split(arr_scaler_X, y, test_size = 0.3, random_state = 0)"
   ]
  },
  {
   "cell_type": "code",
   "execution_count": 84,
   "metadata": {
    "collapsed": true
   },
   "outputs": [],
   "source": [
    "model = Sequential()\n",
    "model.add(Dense(512, input_dim=9))\n",
    "model.add(Activation('relu'))\n",
    "model.add(Dropout(0.2))\n",
    "model.add(Dense(256))\n",
    "model.add(Activation('relu'))\n",
    "model.add(Dropout(0.2))\n",
    "model.add(Dense(128))\n",
    "model.add(Activation('relu'))\n",
    "model.add(Dropout(0.2))\n",
    "model.add(Dense(64))\n",
    "model.add(Activation('relu'))\n",
    "model.add(Dropout(0.2))\n",
    "model.add(Dense(1))\n",
    "model.add(Activation('sigmoid'))\n",
    "model.compile(loss='binary_crossentropy',optimizer='adam',metrics=['accuracy'])"
   ]
  },
  {
   "cell_type": "code",
   "execution_count": 85,
   "metadata": {},
   "outputs": [
    {
     "name": "stdout",
     "output_type": "stream",
     "text": [
      "Epoch 1/100\n",
      "26530/26530 [==============================] - 6s - loss: 0.2573 - acc: 0.9001     \n",
      "Epoch 2/100\n",
      "26530/26530 [==============================] - 5s - loss: 0.1718 - acc: 0.9377     \n",
      "Epoch 3/100\n",
      "26530/26530 [==============================] - 5s - loss: 0.1571 - acc: 0.9434     \n",
      "Epoch 4/100\n",
      "26530/26530 [==============================] - 5s - loss: 0.1378 - acc: 0.9493     \n",
      "Epoch 5/100\n",
      "26530/26530 [==============================] - 5s - loss: 0.1316 - acc: 0.9512     \n",
      "Epoch 6/100\n",
      "26530/26530 [==============================] - 5s - loss: 0.1270 - acc: 0.9536     \n",
      "Epoch 7/100\n",
      "26530/26530 [==============================] - 5s - loss: 0.1197 - acc: 0.9559     \n",
      "Epoch 8/100\n",
      "26530/26530 [==============================] - 5s - loss: 0.1183 - acc: 0.9553     \n",
      "Epoch 9/100\n",
      "26530/26530 [==============================] - 5s - loss: 0.1136 - acc: 0.9583     \n",
      "Epoch 10/100\n",
      "26530/26530 [==============================] - 5s - loss: 0.1149 - acc: 0.9578     \n",
      "Epoch 11/100\n",
      "26530/26530 [==============================] - 6s - loss: 0.1102 - acc: 0.9585     \n",
      "Epoch 12/100\n",
      "26530/26530 [==============================] - 6s - loss: 0.1091 - acc: 0.9578     \n",
      "Epoch 13/100\n",
      "26530/26530 [==============================] - 6s - loss: 0.1063 - acc: 0.9603     \n",
      "Epoch 14/100\n",
      "26530/26530 [==============================] - 6s - loss: 0.1053 - acc: 0.9598     \n",
      "Epoch 15/100\n",
      "26530/26530 [==============================] - 6s - loss: 0.0989 - acc: 0.9622     \n",
      "Epoch 16/100\n",
      "26530/26530 [==============================] - 5s - loss: 0.1005 - acc: 0.9632     \n",
      "Epoch 17/100\n",
      "26530/26530 [==============================] - 6s - loss: 0.0996 - acc: 0.9634     \n",
      "Epoch 18/100\n",
      "26530/26530 [==============================] - 6s - loss: 0.0962 - acc: 0.9651     \n",
      "Epoch 19/100\n",
      "26530/26530 [==============================] - 6s - loss: 0.0938 - acc: 0.9654     \n",
      "Epoch 20/100\n",
      "26530/26530 [==============================] - 6s - loss: 0.0951 - acc: 0.9667     \n",
      "Epoch 21/100\n",
      "26530/26530 [==============================] - 5s - loss: 0.0932 - acc: 0.9668     \n",
      "Epoch 22/100\n",
      "26530/26530 [==============================] - 5s - loss: 0.0917 - acc: 0.9677     \n",
      "Epoch 23/100\n",
      "26530/26530 [==============================] - 6s - loss: 0.0858 - acc: 0.9700     \n",
      "Epoch 24/100\n",
      "26530/26530 [==============================] - 5s - loss: 0.0882 - acc: 0.9679     \n",
      "Epoch 25/100\n",
      "26530/26530 [==============================] - 6s - loss: 0.0878 - acc: 0.9689     \n",
      "Epoch 26/100\n",
      "26530/26530 [==============================] - 5s - loss: 0.0809 - acc: 0.9710     \n",
      "Epoch 27/100\n",
      "26530/26530 [==============================] - 6s - loss: 0.0823 - acc: 0.9722     \n",
      "Epoch 28/100\n",
      "26530/26530 [==============================] - 6s - loss: 0.0818 - acc: 0.9716     \n",
      "Epoch 29/100\n",
      "26530/26530 [==============================] - 6s - loss: 0.0816 - acc: 0.9718     \n",
      "Epoch 30/100\n",
      "26530/26530 [==============================] - 5s - loss: 0.0774 - acc: 0.9726     \n",
      "Epoch 31/100\n",
      "26530/26530 [==============================] - 5s - loss: 0.0768 - acc: 0.9731     \n",
      "Epoch 32/100\n",
      "26530/26530 [==============================] - 5s - loss: 0.0768 - acc: 0.9734     \n",
      "Epoch 33/100\n",
      "26530/26530 [==============================] - 6s - loss: 0.0787 - acc: 0.9735     \n",
      "Epoch 34/100\n",
      "26530/26530 [==============================] - 6s - loss: 0.0768 - acc: 0.9734     \n",
      "Epoch 35/100\n",
      "26530/26530 [==============================] - 5s - loss: 0.0784 - acc: 0.9729     \n",
      "Epoch 36/100\n",
      "26530/26530 [==============================] - 6s - loss: 0.0753 - acc: 0.9730     \n",
      "Epoch 37/100\n",
      "26530/26530 [==============================] - 6s - loss: 0.0715 - acc: 0.9754     \n",
      "Epoch 38/100\n",
      "26530/26530 [==============================] - 6s - loss: 0.0709 - acc: 0.9749     \n",
      "Epoch 39/100\n",
      "26530/26530 [==============================] - 5s - loss: 0.0697 - acc: 0.9759     \n",
      "Epoch 40/100\n",
      "26530/26530 [==============================] - 5s - loss: 0.0692 - acc: 0.9764     \n",
      "Epoch 41/100\n",
      "26530/26530 [==============================] - 6s - loss: 0.0715 - acc: 0.9746     \n",
      "Epoch 42/100\n",
      "26530/26530 [==============================] - 5s - loss: 0.0705 - acc: 0.9769     \n",
      "Epoch 43/100\n",
      "26530/26530 [==============================] - 5s - loss: 0.0698 - acc: 0.9755     \n",
      "Epoch 44/100\n",
      "26530/26530 [==============================] - 6s - loss: 0.0681 - acc: 0.9771     \n",
      "Epoch 45/100\n",
      "26530/26530 [==============================] - 5s - loss: 0.0676 - acc: 0.9763     \n",
      "Epoch 46/100\n",
      "26530/26530 [==============================] - 6s - loss: 0.0685 - acc: 0.9761     \n",
      "Epoch 47/100\n",
      "26530/26530 [==============================] - 6s - loss: 0.0652 - acc: 0.9775     \n",
      "Epoch 48/100\n",
      "26530/26530 [==============================] - 6s - loss: 0.0691 - acc: 0.9762     \n",
      "Epoch 49/100\n",
      "26530/26530 [==============================] - 6s - loss: 0.0685 - acc: 0.9766     \n",
      "Epoch 50/100\n",
      "26530/26530 [==============================] - 6s - loss: 0.0648 - acc: 0.9774     \n",
      "Epoch 51/100\n",
      "26530/26530 [==============================] - 6s - loss: 0.0635 - acc: 0.9777     \n",
      "Epoch 52/100\n",
      "26530/26530 [==============================] - 6s - loss: 0.0633 - acc: 0.9778     \n",
      "Epoch 53/100\n",
      "26530/26530 [==============================] - 5s - loss: 0.0636 - acc: 0.9781     \n",
      "Epoch 54/100\n",
      "26530/26530 [==============================] - 6s - loss: 0.0634 - acc: 0.9787     \n",
      "Epoch 55/100\n",
      "26530/26530 [==============================] - 5s - loss: 0.0626 - acc: 0.9784     \n",
      "Epoch 56/100\n",
      "26530/26530 [==============================] - 5s - loss: 0.0599 - acc: 0.9796     \n",
      "Epoch 57/100\n",
      "26530/26530 [==============================] - 6s - loss: 0.0639 - acc: 0.9783     \n",
      "Epoch 58/100\n",
      "26530/26530 [==============================] - 6s - loss: 0.0605 - acc: 0.9798     \n",
      "Epoch 59/100\n",
      "26530/26530 [==============================] - 6s - loss: 0.0601 - acc: 0.9789     \n",
      "Epoch 60/100\n",
      "26530/26530 [==============================] - 6s - loss: 0.0604 - acc: 0.9790     \n",
      "Epoch 61/100\n",
      "26530/26530 [==============================] - 6s - loss: 0.0643 - acc: 0.9779     \n",
      "Epoch 62/100\n",
      "26530/26530 [==============================] - 6s - loss: 0.0607 - acc: 0.9791     \n",
      "Epoch 63/100\n",
      "26530/26530 [==============================] - 6s - loss: 0.0589 - acc: 0.9798     \n",
      "Epoch 64/100\n",
      "26530/26530 [==============================] - 5s - loss: 0.0591 - acc: 0.9801     \n",
      "Epoch 65/100\n",
      "26530/26530 [==============================] - 5s - loss: 0.0583 - acc: 0.9796     \n",
      "Epoch 66/100\n",
      "26530/26530 [==============================] - 5s - loss: 0.0627 - acc: 0.9789     \n",
      "Epoch 67/100\n",
      "26530/26530 [==============================] - 5s - loss: 0.0589 - acc: 0.9799     \n",
      "Epoch 68/100\n",
      "26530/26530 [==============================] - 5s - loss: 0.0610 - acc: 0.9789     \n",
      "Epoch 69/100\n",
      "26530/26530 [==============================] - 5s - loss: 0.0570 - acc: 0.9812     \n",
      "Epoch 70/100\n",
      "26530/26530 [==============================] - 5s - loss: 0.0567 - acc: 0.9808     \n",
      "Epoch 71/100\n",
      "26530/26530 [==============================] - 5s - loss: 0.0587 - acc: 0.9797     \n",
      "Epoch 72/100\n",
      "26530/26530 [==============================] - 6s - loss: 0.0557 - acc: 0.9816     \n",
      "Epoch 73/100\n",
      "26530/26530 [==============================] - 6s - loss: 0.0577 - acc: 0.9799     \n",
      "Epoch 74/100\n",
      "26530/26530 [==============================] - 5s - loss: 0.0571 - acc: 0.9805     \n",
      "Epoch 75/100\n",
      "26530/26530 [==============================] - 6s - loss: 0.0543 - acc: 0.9811     \n",
      "Epoch 76/100\n",
      "26530/26530 [==============================] - 5s - loss: 0.0554 - acc: 0.9809     \n",
      "Epoch 77/100\n",
      "26530/26530 [==============================] - 6s - loss: 0.0575 - acc: 0.9803     \n",
      "Epoch 78/100\n",
      "26530/26530 [==============================] - 6s - loss: 0.0582 - acc: 0.9803     \n",
      "Epoch 79/100\n",
      "26530/26530 [==============================] - 5s - loss: 0.0536 - acc: 0.9810     \n",
      "Epoch 80/100\n",
      "26530/26530 [==============================] - 6s - loss: 0.0572 - acc: 0.9802     \n",
      "Epoch 81/100\n",
      "26530/26530 [==============================] - 6s - loss: 0.0530 - acc: 0.9819     \n",
      "Epoch 82/100\n",
      "26530/26530 [==============================] - 5s - loss: 0.0553 - acc: 0.9807     \n",
      "Epoch 83/100\n",
      "26530/26530 [==============================] - 6s - loss: 0.0564 - acc: 0.9806     \n",
      "Epoch 84/100\n",
      "26530/26530 [==============================] - 5s - loss: 0.0519 - acc: 0.9823     \n",
      "Epoch 85/100\n"
     ]
    },
    {
     "name": "stdout",
     "output_type": "stream",
     "text": [
      "26530/26530 [==============================] - 5s - loss: 0.0526 - acc: 0.9812     \n",
      "Epoch 86/100\n",
      "26530/26530 [==============================] - 5s - loss: 0.0525 - acc: 0.9818     \n",
      "Epoch 87/100\n",
      "26530/26530 [==============================] - 5s - loss: 0.0530 - acc: 0.9818     \n",
      "Epoch 88/100\n",
      "26530/26530 [==============================] - 5s - loss: 0.0527 - acc: 0.9816     \n",
      "Epoch 89/100\n",
      "26530/26530 [==============================] - 5s - loss: 0.0536 - acc: 0.9812     \n",
      "Epoch 90/100\n",
      "26530/26530 [==============================] - 5s - loss: 0.0536 - acc: 0.9821     \n",
      "Epoch 91/100\n",
      "26530/26530 [==============================] - 5s - loss: 0.0522 - acc: 0.9812     \n",
      "Epoch 92/100\n",
      "26530/26530 [==============================] - 5s - loss: 0.0508 - acc: 0.9819     \n",
      "Epoch 93/100\n",
      "26530/26530 [==============================] - 5s - loss: 0.0506 - acc: 0.9824     \n",
      "Epoch 94/100\n",
      "26530/26530 [==============================] - 5s - loss: 0.0496 - acc: 0.9826     \n",
      "Epoch 95/100\n",
      "26530/26530 [==============================] - 5s - loss: 0.0504 - acc: 0.9823     \n",
      "Epoch 96/100\n",
      "26530/26530 [==============================] - 5s - loss: 0.0496 - acc: 0.9819     \n",
      "Epoch 97/100\n",
      "26530/26530 [==============================] - 6s - loss: 0.0537 - acc: 0.9818     \n",
      "Epoch 98/100\n",
      "26530/26530 [==============================] - 5s - loss: 0.0537 - acc: 0.9819     \n",
      "Epoch 99/100\n",
      "26530/26530 [==============================] - 5s - loss: 0.0487 - acc: 0.9830     \n",
      "Epoch 100/100\n",
      "26530/26530 [==============================] - 5s - loss: 0.0503 - acc: 0.9822     \n"
     ]
    },
    {
     "data": {
      "text/plain": [
       "<keras.callbacks.History at 0x213bca4a5c0>"
      ]
     },
     "execution_count": 85,
     "metadata": {},
     "output_type": "execute_result"
    }
   ],
   "source": [
    "X_train = np.array(X_train)\n",
    "y_train = np.array(y_train)\n",
    "\n",
    "# Fit the model\n",
    "model.fit(X_train,y_train, epochs=100, batch_size=64)"
   ]
  },
  {
   "cell_type": "code",
   "execution_count": 86,
   "metadata": {
    "scrolled": true
   },
   "outputs": [
    {
     "name": "stdout",
     "output_type": "stream",
     "text": [
      "11370\n",
      "Positive Cases in Test Data: 1596\n",
      "Negative Cases in Test Data: 9774\n"
     ]
    }
   ],
   "source": [
    "classes = model.predict_classes(X_test, batch_size=32, verbose=0)\n",
    "print(classes.size)\n",
    "print('Positive Cases in Test Data:', y_test[y_test == 1].shape[0])\n",
    "print('Negative Cases in Test Data:', y_test[y_test == 0].shape[0])"
   ]
  },
  {
   "cell_type": "code",
   "execution_count": 87,
   "metadata": {},
   "outputs": [
    {
     "name": "stdout",
     "output_type": "stream",
     "text": [
      "Accuracy Score - Deep Learning\n",
      "0.985751978892\n",
      "\n",
      "Precision/Recall Metrics\n",
      "             precision    recall  f1-score   support\n",
      "\n",
      "          0       0.99      1.00      0.99      9774\n",
      "          1       0.97      0.93      0.95      1596\n",
      "\n",
      "avg / total       0.99      0.99      0.99     11370\n",
      "\n",
      "\n",
      "AUC\n",
      "0.961043838879\n"
     ]
    }
   ],
   "source": [
    "print('Accuracy Score - Deep Learning')\n",
    "print(metrics.accuracy_score(y_test, classes))\n",
    "print()\n",
    "print('Precision/Recall Metrics')\n",
    "print(metrics.classification_report(y_test,classes))\n",
    "print()\n",
    "auc_dl = metrics.roc_auc_score(y_test,classes)\n",
    "print('AUC')\n",
    "print(auc_dl)\n",
    "\n",
    "dl_accuracy = accuracy_score(y_test, classes)\n",
    "dl_precision = precision_score(y_test,classes)\n",
    "dl_recall = recall_score(y_test,classes)"
   ]
  },
  {
   "cell_type": "code",
   "execution_count": 88,
   "metadata": {},
   "outputs": [
    {
     "data": {
      "image/png": "[encoded data removed]",
      "text/plain": [
       "<matplotlib.figure.Figure at 0x213d6957828>"
      ]
     },
     "metadata": {},
     "output_type": "display_data"
    }
   ],
   "source": [
    "# ROC Chart\n",
    "fpr, tpr, th= roc_curve(y_test, classes)\n",
    "roc_auc = metrics.auc(fpr,tpr)\n",
    "plt.title('ROCR - Deep Learning')\n",
    "plt.plot(fpr,tpr, 'b', label='AUC = %0.2f'% roc_auc)\n",
    "plt.legend(loc='lower right')\n",
    "plt.plot([0,1],[0,1],'r--')\n",
    "plt.xlim([0,1])\n",
    "plt.ylim([0,1])\n",
    "plt.ylabel('True Positive Rate')\n",
    "plt.xlabel('False Positive Rate')\n",
    "plt.show();"
   ]
  },
  {
   "cell_type": "code",
   "execution_count": 89,
   "metadata": {},
   "outputs": [
    {
     "name": "stdout",
     "output_type": "stream",
     "text": [
      "     Confusion Matrix - Deep Learning\n"
     ]
    },
    {
     "data": {
      "image/png": "[encoded data removed]",
      "text/plain": [
       "<matplotlib.figure.Figure at 0x213bce074a8>"
      ]
     },
     "metadata": {},
     "output_type": "display_data"
    }
   ],
   "source": [
    "print ('     Confusion Matrix - Deep Learning')\n",
    "cf =  metrics.confusion_matrix(y_test,classes)\n",
    "lbl1 = [\"Predicted 0\",\"Predicted 1\"]\n",
    "lbl2 = [\"True 0\",\"True 1\"]\n",
    "sns.heatmap(cf, annot=True, fmt=\"d\", xticklabels=lbl1, yticklabels=lbl2, cmap=\"YlGnBu\")\n",
    "plt.show();"
   ]
  },
  {
   "cell_type": "code",
   "execution_count": 91,
   "metadata": {},
   "outputs": [
    {
     "data": {
      "text/html": [
       "<div>\n",
       "<style>\n",
       "    .dataframe thead tr:only-child th {\n",
       "        text-align: right;\n",
       "    }\n",
       "\n",
       "    .dataframe thead th {\n",
       "        text-align: left;\n",
       "    }\n",
       "\n",
       "    .dataframe tbody tr th {\n",
       "        vertical-align: top;\n",
       "    }\n",
       "</style>\n",
       "<table border=\"1\" class=\"dataframe\">\n",
       "  <thead>\n",
       "    <tr style=\"text-align: right;\">\n",
       "      <th></th>\n",
       "      <th>Model</th>\n",
       "      <th>Precision_Score</th>\n",
       "      <th>Recall_Score</th>\n",
       "      <th>Score_Accuracy</th>\n",
       "      <th>Value_AUC</th>\n",
       "    </tr>\n",
       "  </thead>\n",
       "  <tbody>\n",
       "    <tr>\n",
       "      <th>1</th>\n",
       "      <td>Random Forest</td>\n",
       "      <td>1.000</td>\n",
       "      <td>0.991</td>\n",
       "      <td>0.999</td>\n",
       "      <td>0.995</td>\n",
       "    </tr>\n",
       "    <tr>\n",
       "      <th>7</th>\n",
       "      <td>Decision Tree</td>\n",
       "      <td>0.992</td>\n",
       "      <td>0.991</td>\n",
       "      <td>0.998</td>\n",
       "      <td>0.995</td>\n",
       "    </tr>\n",
       "    <tr>\n",
       "      <th>2</th>\n",
       "      <td>Deep Learning</td>\n",
       "      <td>0.970</td>\n",
       "      <td>0.927</td>\n",
       "      <td>0.986</td>\n",
       "      <td>0.961</td>\n",
       "    </tr>\n",
       "    <tr>\n",
       "      <th>5</th>\n",
       "      <td>Naive Bayes</td>\n",
       "      <td>0.970</td>\n",
       "      <td>0.880</td>\n",
       "      <td>0.979</td>\n",
       "      <td>0.938</td>\n",
       "    </tr>\n",
       "    <tr>\n",
       "      <th>6</th>\n",
       "      <td>Linear SVC</td>\n",
       "      <td>0.912</td>\n",
       "      <td>0.479</td>\n",
       "      <td>0.920</td>\n",
       "      <td>0.736</td>\n",
       "    </tr>\n",
       "    <tr>\n",
       "      <th>3</th>\n",
       "      <td>Support Vector Machines</td>\n",
       "      <td>0.890</td>\n",
       "      <td>0.244</td>\n",
       "      <td>0.890</td>\n",
       "      <td>0.619</td>\n",
       "    </tr>\n",
       "    <tr>\n",
       "      <th>0</th>\n",
       "      <td>Logistic Regression</td>\n",
       "      <td>0.856</td>\n",
       "      <td>0.355</td>\n",
       "      <td>0.901</td>\n",
       "      <td>0.673</td>\n",
       "    </tr>\n",
       "    <tr>\n",
       "      <th>4</th>\n",
       "      <td>KNN</td>\n",
       "      <td>0.664</td>\n",
       "      <td>0.425</td>\n",
       "      <td>0.889</td>\n",
       "      <td>0.695</td>\n",
       "    </tr>\n",
       "  </tbody>\n",
       "</table>\n",
       "</div>"
      ],
      "text/plain": [
       "                     Model  Precision_Score  Recall_Score  Score_Accuracy  \\\n",
       "1            Random Forest            1.000         0.991           0.999   \n",
       "7            Decision Tree            0.992         0.991           0.998   \n",
       "2            Deep Learning            0.970         0.927           0.986   \n",
       "5              Naive Bayes            0.970         0.880           0.979   \n",
       "6               Linear SVC            0.912         0.479           0.920   \n",
       "3  Support Vector Machines            0.890         0.244           0.890   \n",
       "0      Logistic Regression            0.856         0.355           0.901   \n",
       "4                      KNN            0.664         0.425           0.889   \n",
       "\n",
       "   Value_AUC  \n",
       "1      0.995  \n",
       "7      0.995  \n",
       "2      0.961  \n",
       "5      0.938  \n",
       "6      0.736  \n",
       "3      0.619  \n",
       "0      0.673  \n",
       "4      0.695  "
      ]
     },
     "execution_count": 91,
     "metadata": {},
     "output_type": "execute_result"
    }
   ],
   "source": [
    "# Model Comparision\n",
    "\n",
    "models = pd.DataFrame({\n",
    "    'Model': ['Logistic Regression', 'Random Forest', 'Deep Learning', 'Support Vector Machines', 'KNN', 'Naive Bayes', 'Linear SVC', 'Decision Tree'],\n",
    "    'Score_Accuracy': [lrn_accuracy, rf_accuracy, dl_accuracy, svc_accuracy, knn_accuracy, gnb_accuracy, lsvc_accuracy, dtree_accuracy],\n",
    "    'Precision_Score': [lrn_precision, rf_precision, dl_precision, svc_precision, knn_precision, gnb_precision, lsvc_precision, dtree_precision],\n",
    "    'Recall_Score': [lrn_recall, rf_recall, dl_recall, svc_recall, knn_recall, gnb_recall, lsvc_recall, dtree_recall],\n",
    "    'Value_AUC': [auc_lrn, auc_rf, auc_dl, auc_svc, auc_knn, auc_gnb, auc_lsvc, auc_dtree]})\n",
    "models = models.round(3)\n",
    "models.sort_values('Precision_Score', ascending=False)"
   ]
  }
 ],
 "metadata": {
  "kernelspec": {
   "display_name": "Python 3",
   "language": "python",
   "name": "python3"
  },
  "language_info": {
   "codemirror_mode": {
    "name": "ipython",
    "version": 3
   },
   "file_extension": ".py",
   "mimetype": "text/x-python",
   "name": "python",
   "nbconvert_exporter": "python",
   "pygments_lexer": "ipython3",
   "version": "3.5.4"
  }
 },
 "nbformat": 4,
 "nbformat_minor": 2
}
